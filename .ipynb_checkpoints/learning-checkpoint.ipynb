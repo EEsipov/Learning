{
 "cells": [
  {
   "cell_type": "markdown",
   "metadata": {
    "toc": true
   },
   "source": [
    "<h1>Содержание<span class=\"tocSkip\"></span></h1>\n",
    "<div class=\"toc\"><ul class=\"toc-item\"><li><span><a href=\"#Подготовка-данных\" data-toc-modified-id=\"Подготовка-данных-1\"><span class=\"toc-item-num\">1&nbsp;&nbsp;</span>Подготовка данных</a></span><ul class=\"toc-item\"><li><span><a href=\"#Отроем-и-изучим-данные\" data-toc-modified-id=\"Отроем-и-изучим-данные-1.1\"><span class=\"toc-item-num\">1.1&nbsp;&nbsp;</span>Отроем и изучим данные</a></span></li><li><span><a href=\"#Заполним-пропущенные-значения\" data-toc-modified-id=\"Заполним-пропущенные-значения-1.2\"><span class=\"toc-item-num\">1.2&nbsp;&nbsp;</span>Заполним пропущенные значения</a></span></li><li><span><a href=\"#Удалим-нерепрезентативные-признаки-RowNumber-и-Surname.\" data-toc-modified-id=\"Удалим-нерепрезентативные-признаки-RowNumber-и-Surname.-1.3\"><span class=\"toc-item-num\">1.3&nbsp;&nbsp;</span>Удалим нерепрезентативные признаки RowNumber и Surname.</a></span></li><li><span><a href=\"#Преобразуем-категориальные-признаки-в-численные-техникой-прямого-кодирования:\" data-toc-modified-id=\"Преобразуем-категориальные-признаки-в-численные-техникой-прямого-кодирования:-1.4\"><span class=\"toc-item-num\">1.4&nbsp;&nbsp;</span>Преобразуем категориальные признаки в численные техникой прямого кодирования:</a></span></li><li><span><a href=\"#Масштабируем-данные\" data-toc-modified-id=\"Масштабируем-данные-1.5\"><span class=\"toc-item-num\">1.5&nbsp;&nbsp;</span>Масштабируем данные</a></span></li></ul></li><li><span><a href=\"#Исследование-задачи\" data-toc-modified-id=\"Исследование-задачи-2\"><span class=\"toc-item-num\">2&nbsp;&nbsp;</span>Исследование задачи</a></span><ul class=\"toc-item\"><li><span><a href=\"#Исследуем-баланс-классов\" data-toc-modified-id=\"Исследуем-баланс-классов-2.1\"><span class=\"toc-item-num\">2.1&nbsp;&nbsp;</span>Исследуем баланс классов</a></span></li><li><span><a href=\"#Изучим-модель-без-учёта-дисбаланса-классов\" data-toc-modified-id=\"Изучим-модель-без-учёта-дисбаланса-классов-2.2\"><span class=\"toc-item-num\">2.2&nbsp;&nbsp;</span>Изучим модель без учёта дисбаланса классов</a></span></li></ul></li><li><span><a href=\"#Борьба-с-дисбалансом\" data-toc-modified-id=\"Борьба-с-дисбалансом-3\"><span class=\"toc-item-num\">3&nbsp;&nbsp;</span>Борьба с дисбалансом</a></span><ul class=\"toc-item\"><li><span><a href=\"#Взвешивание-классов.-Придадим-объектам-редкого-класса-больший-вес.\" data-toc-modified-id=\"Взвешивание-классов.-Придадим-объектам-редкого-класса-больший-вес.-3.1\"><span class=\"toc-item-num\">3.1&nbsp;&nbsp;</span>Взвешивание классов. Придадим объектам редкого класса больший вес.</a></span></li><li><span><a href=\"#Найдем-F1-меру--при-увеличении-выборки\" data-toc-modified-id=\"Найдем-F1-меру--при-увеличении-выборки-3.2\"><span class=\"toc-item-num\">3.2&nbsp;&nbsp;</span>Найдем F1-меру  при увеличении выборки</a></span></li><li><span><a href=\"#Найдем-F1-меру--при-уменьшении-выборки\" data-toc-modified-id=\"Найдем-F1-меру--при-уменьшении-выборки-3.3\"><span class=\"toc-item-num\">3.3&nbsp;&nbsp;</span>Найдем F1-меру  при уменьшении выборки</a></span></li><li><span><a href=\"#Подберем-параметры-для-модели-случайного-леса\" data-toc-modified-id=\"Подберем-параметры-для-модели-случайного-леса-3.4\"><span class=\"toc-item-num\">3.4&nbsp;&nbsp;</span>Подберем параметры для модели случайного леса</a></span></li><li><span><a href=\"#Найдем-F1-меру-моделью-случайного-леса-с-подобранными-параметрами-и-увелченной-выборкой\" data-toc-modified-id=\"Найдем-F1-меру-моделью-случайного-леса-с-подобранными-параметрами-и-увелченной-выборкой-3.5\"><span class=\"toc-item-num\">3.5&nbsp;&nbsp;</span>Найдем F1-меру моделью случайного леса с подобранными параметрами и увелченной выборкой</a></span></li><li><span><a href=\"#Переберем-значения-порогов-для-нахождения-максимальной-F1\" data-toc-modified-id=\"Переберем-значения-порогов-для-нахождения-максимальной-F1-3.6\"><span class=\"toc-item-num\">3.6&nbsp;&nbsp;</span>Переберем значения порогов для нахождения максимальной F1</a></span></li></ul></li><li><span><a href=\"#Исследуем-метрику-AUC-ROC\" data-toc-modified-id=\"Исследуем-метрику-AUC-ROC-4\"><span class=\"toc-item-num\">4&nbsp;&nbsp;</span>Исследуем метрику AUC-ROC</a></span></li><li><span><a href=\"#Чек-лист-готовности-проекта\" data-toc-modified-id=\"Чек-лист-готовности-проекта-5\"><span class=\"toc-item-num\">5&nbsp;&nbsp;</span>Чек-лист готовности проекта</a></span></li></ul></div>"
   ]
  },
  {
   "cell_type": "markdown",
   "metadata": {},
   "source": [
    "# Отток клиентов"
   ]
  },
  {
   "cell_type": "markdown",
   "metadata": {},
   "source": [
    "Из «Бета-Банка» стали уходить клиенты. Каждый месяц. Немного, но заметно. Банковские маркетологи посчитали: сохранять текущих клиентов дешевле, чем привлекать новых.\n",
    "\n",
    "Нужно спрогнозировать, уйдёт клиент из банка в ближайшее время или нет. Вам предоставлены исторические данные о поведении клиентов и расторжении договоров с банком. \n",
    "\n",
    "Постройте модель с предельно большим значением *F1*-меры. Чтобы сдать проект успешно, нужно довести метрику до 0.59. Проверьте *F1*-меру на тестовой выборке самостоятельно.\n",
    "\n",
    "Дополнительно измеряйте *AUC-ROC*, сравнивайте её значение с *F1*-мерой.\n",
    "\n",
    "Источник данных: [https://www.kaggle.com/barelydedicated/bank-customer-churn-modeling](https://www.kaggle.com/barelydedicated/bank-customer-churn-modeling)"
   ]
  },
  {
   "cell_type": "markdown",
   "metadata": {},
   "source": [
    "## Подготовка данных"
   ]
  },
  {
   "cell_type": "markdown",
   "metadata": {},
   "source": [
    "### Отроем и изучим данные"
   ]
  },
  {
   "cell_type": "code",
   "execution_count": 1,
   "metadata": {},
   "outputs": [
    {
     "name": "stdout",
     "output_type": "stream",
     "text": [
      "<class 'pandas.core.frame.DataFrame'>\n",
      "RangeIndex: 10000 entries, 0 to 9999\n",
      "Data columns (total 14 columns):\n",
      " #   Column           Non-Null Count  Dtype  \n",
      "---  ------           --------------  -----  \n",
      " 0   RowNumber        10000 non-null  int64  \n",
      " 1   CustomerId       10000 non-null  int64  \n",
      " 2   Surname          10000 non-null  object \n",
      " 3   CreditScore      10000 non-null  int64  \n",
      " 4   Geography        10000 non-null  object \n",
      " 5   Gender           10000 non-null  object \n",
      " 6   Age              10000 non-null  int64  \n",
      " 7   Tenure           9091 non-null   float64\n",
      " 8   Balance          10000 non-null  float64\n",
      " 9   NumOfProducts    10000 non-null  int64  \n",
      " 10  HasCrCard        10000 non-null  int64  \n",
      " 11  IsActiveMember   10000 non-null  int64  \n",
      " 12  EstimatedSalary  10000 non-null  float64\n",
      " 13  Exited           10000 non-null  int64  \n",
      "dtypes: float64(3), int64(8), object(3)\n",
      "memory usage: 1.1+ MB\n"
     ]
    }
   ],
   "source": [
    "import pandas as pd\n",
    "from sklearn.tree import DecisionTreeClassifier \n",
    "from sklearn.metrics import accuracy_score, f1_score,recall_score, precision_score, accuracy_score, precision_recall_curve, roc_curve, roc_auc_score   \n",
    "from sklearn.ensemble import RandomForestClassifier\n",
    "import random\n",
    "from sklearn.model_selection import train_test_split\n",
    "from sklearn.preprocessing import StandardScaler \n",
    "from sklearn.linear_model import LogisticRegression\n",
    "from sklearn.utils import shuffle\n",
    "import matplotlib.pyplot as plt\n",
    "data = pd.read_csv('Churn.csv')\n",
    "data.info()"
   ]
  },
  {
   "cell_type": "markdown",
   "metadata": {},
   "source": [
    " В таблице 14 столбцов. 3 столбца с вещественным типом данных- float , 8 столбцов с целочисленным типом- integer и 3 столбцов типа object.\n",
    "    \n",
    "    Согласно документации к данным:\n",
    "    Признаки\n",
    "    RowNumber — индекс строки в данных\n",
    "    CustomerId — уникальный идентификатор клиента\n",
    "    Surname — фамилия\n",
    "    CreditScore — кредитный рейтинг\n",
    "    Geography — страна проживания\n",
    "    Gender — пол\n",
    "    Age — возраст\n",
    "    Tenure — сколько лет человек является клиентом банка\n",
    "    Balance — баланс на счёте\n",
    "    NumOfProducts — количество продуктов банка, используемых клиентом\n",
    "    HasCrCard — наличие кредитной карты\n",
    "    IsActiveMember — активность клиента\n",
    "    EstimatedSalary — предполагаемая зарплата\n",
    "    Целевой признак\n",
    "    Exited — факт ухода клиента\n",
    "    \n",
    "   В cтолбце Tenure есть пропущенные значения."
   ]
  },
  {
   "cell_type": "code",
   "execution_count": 2,
   "metadata": {},
   "outputs": [
    {
     "name": "stdout",
     "output_type": "stream",
     "text": [
      "Минимальное значение в столбце Tenure: 0.0\n",
      "Максимальное значение в столбце Tenure: 10.0\n"
     ]
    }
   ],
   "source": [
    "print('Минимальное значение в столбце Tenure:',data['Tenure'].min())\n",
    "print('Максимальное значение в столбце Tenure:',data['Tenure'].max())"
   ]
  },
  {
   "cell_type": "markdown",
   "metadata": {},
   "source": [
    "###  Заполним пропущенные значения\n",
    "Т.к. удаление объектов с пропущенными значениями признака Tenure сильно исказит наши данные, заполним пропущенные значения в признаке Tenure случайными значениями от 0 до 10:"
   ]
  },
  {
   "cell_type": "code",
   "execution_count": 3,
   "metadata": {},
   "outputs": [
    {
     "name": "stdout",
     "output_type": "stream",
     "text": [
      "<class 'pandas.core.frame.DataFrame'>\n",
      "RangeIndex: 10000 entries, 0 to 9999\n",
      "Data columns (total 14 columns):\n",
      " #   Column           Non-Null Count  Dtype  \n",
      "---  ------           --------------  -----  \n",
      " 0   RowNumber        10000 non-null  int64  \n",
      " 1   CustomerId       10000 non-null  int64  \n",
      " 2   Surname          10000 non-null  object \n",
      " 3   CreditScore      10000 non-null  int64  \n",
      " 4   Geography        10000 non-null  object \n",
      " 5   Gender           10000 non-null  object \n",
      " 6   Age              10000 non-null  int64  \n",
      " 7   Tenure           10000 non-null  float64\n",
      " 8   Balance          10000 non-null  float64\n",
      " 9   NumOfProducts    10000 non-null  int64  \n",
      " 10  HasCrCard        10000 non-null  int64  \n",
      " 11  IsActiveMember   10000 non-null  int64  \n",
      " 12  EstimatedSalary  10000 non-null  float64\n",
      " 13  Exited           10000 non-null  int64  \n",
      "dtypes: float64(3), int64(8), object(3)\n",
      "memory usage: 1.1+ MB\n"
     ]
    }
   ],
   "source": [
    "data.loc[(pd.isna(data.Tenure)),'Tenure'] = random.randrange(11)\n",
    "data.info()"
   ]
  },
  {
   "cell_type": "markdown",
   "metadata": {},
   "source": [
    "### Удалим нерепрезентативные признаки RowNumber и Surname.\n"
   ]
  },
  {
   "cell_type": "code",
   "execution_count": 4,
   "metadata": {},
   "outputs": [
    {
     "data": {
      "text/html": [
       "<div>\n",
       "<style scoped>\n",
       "    .dataframe tbody tr th:only-of-type {\n",
       "        vertical-align: middle;\n",
       "    }\n",
       "\n",
       "    .dataframe tbody tr th {\n",
       "        vertical-align: top;\n",
       "    }\n",
       "\n",
       "    .dataframe thead th {\n",
       "        text-align: right;\n",
       "    }\n",
       "</style>\n",
       "<table border=\"1\" class=\"dataframe\">\n",
       "  <thead>\n",
       "    <tr style=\"text-align: right;\">\n",
       "      <th></th>\n",
       "      <th>CreditScore</th>\n",
       "      <th>Geography</th>\n",
       "      <th>Gender</th>\n",
       "      <th>Age</th>\n",
       "      <th>Tenure</th>\n",
       "      <th>Balance</th>\n",
       "      <th>NumOfProducts</th>\n",
       "      <th>HasCrCard</th>\n",
       "      <th>IsActiveMember</th>\n",
       "      <th>EstimatedSalary</th>\n",
       "      <th>Exited</th>\n",
       "    </tr>\n",
       "  </thead>\n",
       "  <tbody>\n",
       "    <tr>\n",
       "      <th>0</th>\n",
       "      <td>619</td>\n",
       "      <td>France</td>\n",
       "      <td>Female</td>\n",
       "      <td>42</td>\n",
       "      <td>2.0</td>\n",
       "      <td>0.00</td>\n",
       "      <td>1</td>\n",
       "      <td>1</td>\n",
       "      <td>1</td>\n",
       "      <td>101348.88</td>\n",
       "      <td>1</td>\n",
       "    </tr>\n",
       "    <tr>\n",
       "      <th>1</th>\n",
       "      <td>608</td>\n",
       "      <td>Spain</td>\n",
       "      <td>Female</td>\n",
       "      <td>41</td>\n",
       "      <td>1.0</td>\n",
       "      <td>83807.86</td>\n",
       "      <td>1</td>\n",
       "      <td>0</td>\n",
       "      <td>1</td>\n",
       "      <td>112542.58</td>\n",
       "      <td>0</td>\n",
       "    </tr>\n",
       "    <tr>\n",
       "      <th>2</th>\n",
       "      <td>502</td>\n",
       "      <td>France</td>\n",
       "      <td>Female</td>\n",
       "      <td>42</td>\n",
       "      <td>8.0</td>\n",
       "      <td>159660.80</td>\n",
       "      <td>3</td>\n",
       "      <td>1</td>\n",
       "      <td>0</td>\n",
       "      <td>113931.57</td>\n",
       "      <td>1</td>\n",
       "    </tr>\n",
       "    <tr>\n",
       "      <th>3</th>\n",
       "      <td>699</td>\n",
       "      <td>France</td>\n",
       "      <td>Female</td>\n",
       "      <td>39</td>\n",
       "      <td>1.0</td>\n",
       "      <td>0.00</td>\n",
       "      <td>2</td>\n",
       "      <td>0</td>\n",
       "      <td>0</td>\n",
       "      <td>93826.63</td>\n",
       "      <td>0</td>\n",
       "    </tr>\n",
       "    <tr>\n",
       "      <th>4</th>\n",
       "      <td>850</td>\n",
       "      <td>Spain</td>\n",
       "      <td>Female</td>\n",
       "      <td>43</td>\n",
       "      <td>2.0</td>\n",
       "      <td>125510.82</td>\n",
       "      <td>1</td>\n",
       "      <td>1</td>\n",
       "      <td>1</td>\n",
       "      <td>79084.10</td>\n",
       "      <td>0</td>\n",
       "    </tr>\n",
       "    <tr>\n",
       "      <th>5</th>\n",
       "      <td>645</td>\n",
       "      <td>Spain</td>\n",
       "      <td>Male</td>\n",
       "      <td>44</td>\n",
       "      <td>8.0</td>\n",
       "      <td>113755.78</td>\n",
       "      <td>2</td>\n",
       "      <td>1</td>\n",
       "      <td>0</td>\n",
       "      <td>149756.71</td>\n",
       "      <td>1</td>\n",
       "    </tr>\n",
       "    <tr>\n",
       "      <th>6</th>\n",
       "      <td>822</td>\n",
       "      <td>France</td>\n",
       "      <td>Male</td>\n",
       "      <td>50</td>\n",
       "      <td>7.0</td>\n",
       "      <td>0.00</td>\n",
       "      <td>2</td>\n",
       "      <td>1</td>\n",
       "      <td>1</td>\n",
       "      <td>10062.80</td>\n",
       "      <td>0</td>\n",
       "    </tr>\n",
       "    <tr>\n",
       "      <th>7</th>\n",
       "      <td>376</td>\n",
       "      <td>Germany</td>\n",
       "      <td>Female</td>\n",
       "      <td>29</td>\n",
       "      <td>4.0</td>\n",
       "      <td>115046.74</td>\n",
       "      <td>4</td>\n",
       "      <td>1</td>\n",
       "      <td>0</td>\n",
       "      <td>119346.88</td>\n",
       "      <td>1</td>\n",
       "    </tr>\n",
       "    <tr>\n",
       "      <th>8</th>\n",
       "      <td>501</td>\n",
       "      <td>France</td>\n",
       "      <td>Male</td>\n",
       "      <td>44</td>\n",
       "      <td>4.0</td>\n",
       "      <td>142051.07</td>\n",
       "      <td>2</td>\n",
       "      <td>0</td>\n",
       "      <td>1</td>\n",
       "      <td>74940.50</td>\n",
       "      <td>0</td>\n",
       "    </tr>\n",
       "    <tr>\n",
       "      <th>9</th>\n",
       "      <td>684</td>\n",
       "      <td>France</td>\n",
       "      <td>Male</td>\n",
       "      <td>27</td>\n",
       "      <td>2.0</td>\n",
       "      <td>134603.88</td>\n",
       "      <td>1</td>\n",
       "      <td>1</td>\n",
       "      <td>1</td>\n",
       "      <td>71725.73</td>\n",
       "      <td>0</td>\n",
       "    </tr>\n",
       "  </tbody>\n",
       "</table>\n",
       "</div>"
      ],
      "text/plain": [
       "   CreditScore Geography  Gender  Age  Tenure    Balance  NumOfProducts  \\\n",
       "0          619    France  Female   42     2.0       0.00              1   \n",
       "1          608     Spain  Female   41     1.0   83807.86              1   \n",
       "2          502    France  Female   42     8.0  159660.80              3   \n",
       "3          699    France  Female   39     1.0       0.00              2   \n",
       "4          850     Spain  Female   43     2.0  125510.82              1   \n",
       "5          645     Spain    Male   44     8.0  113755.78              2   \n",
       "6          822    France    Male   50     7.0       0.00              2   \n",
       "7          376   Germany  Female   29     4.0  115046.74              4   \n",
       "8          501    France    Male   44     4.0  142051.07              2   \n",
       "9          684    France    Male   27     2.0  134603.88              1   \n",
       "\n",
       "   HasCrCard  IsActiveMember  EstimatedSalary  Exited  \n",
       "0          1               1        101348.88       1  \n",
       "1          0               1        112542.58       0  \n",
       "2          1               0        113931.57       1  \n",
       "3          0               0         93826.63       0  \n",
       "4          1               1         79084.10       0  \n",
       "5          1               0        149756.71       1  \n",
       "6          1               1         10062.80       0  \n",
       "7          1               0        119346.88       1  \n",
       "8          0               1         74940.50       0  \n",
       "9          1               1         71725.73       0  "
      ]
     },
     "execution_count": 4,
     "metadata": {},
     "output_type": "execute_result"
    }
   ],
   "source": [
    "data=data.drop('RowNumber',axis=1)\n",
    "data=data.drop('Surname',axis=1)\n",
    "data=data.drop('CustomerId',axis=1)\n",
    "data.head(10)"
   ]
  },
  {
   "cell_type": "markdown",
   "metadata": {},
   "source": [
    "### Преобразуем категориальные признаки в численные техникой прямого кодирования:"
   ]
  },
  {
   "cell_type": "code",
   "execution_count": 5,
   "metadata": {},
   "outputs": [],
   "source": [
    "data_ohe = pd.get_dummies(data,drop_first=True)\n",
    "target = data_ohe['Exited']\n",
    "features = data_ohe.drop('Exited', axis=1)"
   ]
  },
  {
   "cell_type": "markdown",
   "metadata": {},
   "source": [
    "### Масштабируем данные"
   ]
  },
  {
   "cell_type": "code",
   "execution_count": 6,
   "metadata": {},
   "outputs": [],
   "source": [
    "features_train, features_valid, target_train, target_valid = train_test_split(\n",
    "    features, target, test_size=0.25, random_state=12345)\n",
    "numeric = ['CreditScore', 'Age', 'Tenure', 'Age','Balance','EstimatedSalary']\n",
    "scaler = StandardScaler()\n",
    "scaler.fit(features_train[numeric])\n",
    "features_train[numeric] = scaler.transform(features_train[numeric])\n",
    "features_valid[numeric] = scaler.transform(features_valid[numeric])"
   ]
  },
  {
   "cell_type": "markdown",
   "metadata": {},
   "source": [
    "## Исследование задачи"
   ]
  },
  {
   "cell_type": "markdown",
   "metadata": {},
   "source": [
    "###  Исследуем баланс классов"
   ]
  },
  {
   "cell_type": "code",
   "execution_count": 7,
   "metadata": {},
   "outputs": [
    {
     "name": "stdout",
     "output_type": "stream",
     "text": [
      "0    0.7963\n",
      "1    0.2037\n",
      "Name: Exited, dtype: float64\n"
     ]
    },
    {
     "data": {
      "text/plain": [
       "<AxesSubplot:>"
      ]
     },
     "execution_count": 7,
     "metadata": {},
     "output_type": "execute_result"
    },
    {
     "data": {
      "image/png": "[encoded data removed]",
      "text/plain": [
       "<Figure size 432x288 with 1 Axes>"
      ]
     },
     "metadata": {
      "needs_background": "light"
     },
     "output_type": "display_data"
    }
   ],
   "source": [
    "class_frequency= data_ohe['Exited'].value_counts(normalize=True)\n",
    "print(class_frequency)\n",
    "class_frequency.plot(kind='bar')"
   ]
  },
  {
   "cell_type": "markdown",
   "metadata": {},
   "source": [
    "**Вывод:**\n",
    "\n",
    "    В задаче наблюдается сильный дисбаланс классов, что плохо скажется на обучении модели."
   ]
  },
  {
   "cell_type": "markdown",
   "metadata": {},
   "source": [
    "### Изучим модель без учёта дисбаланса классов"
   ]
  },
  {
   "cell_type": "code",
   "execution_count": 8,
   "metadata": {},
   "outputs": [
    {
     "name": "stdout",
     "output_type": "stream",
     "text": [
      "F1-мера: 0.4774193548387096\n",
      "Полнота: 0.48411214953271026\n",
      "Точность: 0.4709090909090909\n"
     ]
    }
   ],
   "source": [
    "model = DecisionTreeClassifier(random_state=12345)\n",
    "model.fit(features_train, target_train)\n",
    "predicted_valid = model.predict(features_valid)\n",
    "print(\"F1-мера:\", f1_score(target_valid,predicted_valid))\n",
    "print(\"Полнота:\", recall_score(target_valid,predicted_valid))\n",
    "print(\"Точность:\", precision_score (target_valid,predicted_valid))"
   ]
  },
  {
   "cell_type": "markdown",
   "metadata": {},
   "source": [
    "**Вывод:**\n",
    "    \n",
    "    Из полученных метрик можно сделать выводы, что модель довольно плохо ищет \"положительные\" классы.\n",
    "    Необходимо устранить дисбаланс классов.\n"
   ]
  },
  {
   "cell_type": "markdown",
   "metadata": {},
   "source": [
    "## Борьба с дисбалансом"
   ]
  },
  {
   "cell_type": "markdown",
   "metadata": {},
   "source": [
    "### Взвешивание классов. Придадим объектам редкого класса больший вес."
   ]
  },
  {
   "cell_type": "code",
   "execution_count": 9,
   "metadata": {},
   "outputs": [
    {
     "name": "stdout",
     "output_type": "stream",
     "text": [
      "F1-мера: 0.50708024275118\n"
     ]
    }
   ],
   "source": [
    "model = LogisticRegression(random_state=12345, solver='liblinear',class_weight='balanced')\n",
    "model.fit(features_train, target_train)\n",
    "predicted_valid = model.predict(features_valid)\n",
    "print(\"F1-мера:\", f1_score(target_valid, predicted_valid))"
   ]
  },
  {
   "cell_type": "markdown",
   "metadata": {},
   "source": [
    "**Вывод:**\n",
    "    \n",
    "    F1-мера увеличилась\n",
    "    "
   ]
  },
  {
   "cell_type": "markdown",
   "metadata": {},
   "source": [
    "### Найдем F1-меру  при увеличении выборки"
   ]
  },
  {
   "cell_type": "code",
   "execution_count": 10,
   "metadata": {},
   "outputs": [
    {
     "name": "stdout",
     "output_type": "stream",
     "text": [
      "F1: 0.5067385444743935\n"
     ]
    }
   ],
   "source": [
    "def upsample(features, target, repeat):\n",
    "    features_zeros = features[target == 0]\n",
    "    features_ones = features[target == 1]\n",
    "    target_zeros = target[target == 0]\n",
    "    target_ones = target[target == 1]\n",
    "\n",
    "    features_upsampled = pd.concat([features_zeros] + [features_ones] * repeat)\n",
    "    target_upsampled = pd.concat([target_zeros] + [target_ones] * repeat)\n",
    "    \n",
    "    features_upsampled, target_upsampled = shuffle(\n",
    "        features_upsampled, target_upsampled, random_state=12345)\n",
    "    return features_upsampled, target_upsampled\n",
    "\n",
    "features_upsampled, target_upsampled = upsample(features_train, target_train, 4)\n",
    "model =LogisticRegression(random_state=12345,solver='liblinear')\n",
    "model.fit(features_upsampled,target_upsampled)\n",
    "predicted_valid=model.predict(features_valid)\n",
    "print(\"F1:\", f1_score(target_valid, predicted_valid))"
   ]
  },
  {
   "cell_type": "markdown",
   "metadata": {},
   "source": [
    "### Найдем F1-меру  при уменьшении выборки"
   ]
  },
  {
   "cell_type": "code",
   "execution_count": 11,
   "metadata": {},
   "outputs": [
    {
     "name": "stdout",
     "output_type": "stream",
     "text": [
      "F1: 0.48692152917505027\n"
     ]
    }
   ],
   "source": [
    " def downsample(features, target, fraction):\n",
    "    features_zeros = features[target == 0]\n",
    "    features_ones = features[target == 1]\n",
    "    target_zeros = target[target == 0]\n",
    "    target_ones = target[target == 1]\n",
    "\n",
    "    features_downsampled = pd.concat(\n",
    "        [features_zeros.sample(frac=fraction, random_state=12345)] + [features_ones])\n",
    "    target_downsampled = pd.concat(\n",
    "        [target_zeros.sample(frac=fraction, random_state=12345)] + [target_ones])\n",
    "    \n",
    "    features_downsampled, target_downsampled = shuffle(\n",
    "        features_downsampled, target_downsampled, random_state=12345)\n",
    "    \n",
    "    return features_downsampled, target_downsampled\n",
    "\n",
    "features_downsampled, target_downsampled = downsample(features_train, target_train, 0.27)\n",
    "\n",
    "#model=LogisticRegression(random_state=12345,solver='liblinear')\n",
    "model = DecisionTreeClassifier(random_state=12345)\n",
    "model.fit(features_downsampled, target_downsampled)\n",
    "predicted_valid=model.predict(features_valid)\n",
    "print(\"F1:\", f1_score(target_valid, predicted_valid))\n"
   ]
  },
  {
   "cell_type": "markdown",
   "metadata": {},
   "source": [
    "### Подберем параметры для модели случайного леса"
   ]
  },
  {
   "cell_type": "code",
   "execution_count": 12,
   "metadata": {},
   "outputs": [
    {
     "ename": "KeyboardInterrupt",
     "evalue": "",
     "output_type": "error",
     "traceback": [
      "\u001b[0;31m---------------------------------------------------------------------------\u001b[0m",
      "\u001b[0;31mKeyboardInterrupt\u001b[0m                         Traceback (most recent call last)",
      "Input \u001b[0;32mIn [12]\u001b[0m, in \u001b[0;36m<cell line: 4>\u001b[0;34m()\u001b[0m\n\u001b[1;32m      5\u001b[0m \u001b[38;5;28;01mfor\u001b[39;00m depth \u001b[38;5;129;01min\u001b[39;00m \u001b[38;5;28mrange\u001b[39m(\u001b[38;5;241m1\u001b[39m, \u001b[38;5;241m30\u001b[39m):\n\u001b[1;32m      6\u001b[0m     model \u001b[38;5;241m=\u001b[39m RandomForestClassifier(random_state\u001b[38;5;241m=\u001b[39m\u001b[38;5;241m12345\u001b[39m, n_estimators\u001b[38;5;241m=\u001b[39mest, max_depth\u001b[38;5;241m=\u001b[39mdepth) \n\u001b[0;32m----> 7\u001b[0m     \u001b[43mmodel\u001b[49m\u001b[38;5;241;43m.\u001b[39;49m\u001b[43mfit\u001b[49m\u001b[43m(\u001b[49m\u001b[43mfeatures_train\u001b[49m\u001b[43m,\u001b[49m\u001b[43mtarget_train\u001b[49m\u001b[43m)\u001b[49m \n\u001b[1;32m      8\u001b[0m     result \u001b[38;5;241m=\u001b[39m model\u001b[38;5;241m.\u001b[39mscore(features_valid,target_valid) \n\u001b[1;32m      9\u001b[0m     \u001b[38;5;28;01mif\u001b[39;00m result \u001b[38;5;241m>\u001b[39m best_RFC_result:\n",
      "File \u001b[0;32m/usr/local/lib/python3.9/site-packages/sklearn/ensemble/_forest.py:476\u001b[0m, in \u001b[0;36mBaseForest.fit\u001b[0;34m(self, X, y, sample_weight)\u001b[0m\n\u001b[1;32m    465\u001b[0m trees \u001b[38;5;241m=\u001b[39m [\n\u001b[1;32m    466\u001b[0m     \u001b[38;5;28mself\u001b[39m\u001b[38;5;241m.\u001b[39m_make_estimator(append\u001b[38;5;241m=\u001b[39m\u001b[38;5;28;01mFalse\u001b[39;00m, random_state\u001b[38;5;241m=\u001b[39mrandom_state)\n\u001b[1;32m    467\u001b[0m     \u001b[38;5;28;01mfor\u001b[39;00m i \u001b[38;5;129;01min\u001b[39;00m \u001b[38;5;28mrange\u001b[39m(n_more_estimators)\n\u001b[1;32m    468\u001b[0m ]\n\u001b[1;32m    470\u001b[0m \u001b[38;5;66;03m# Parallel loop: we prefer the threading backend as the Cython code\u001b[39;00m\n\u001b[1;32m    471\u001b[0m \u001b[38;5;66;03m# for fitting the trees is internally releasing the Python GIL\u001b[39;00m\n\u001b[1;32m    472\u001b[0m \u001b[38;5;66;03m# making threading more efficient than multiprocessing in\u001b[39;00m\n\u001b[1;32m    473\u001b[0m \u001b[38;5;66;03m# that case. However, for joblib 0.12+ we respect any\u001b[39;00m\n\u001b[1;32m    474\u001b[0m \u001b[38;5;66;03m# parallel_backend contexts set at a higher level,\u001b[39;00m\n\u001b[1;32m    475\u001b[0m \u001b[38;5;66;03m# since correctness does not rely on using threads.\u001b[39;00m\n\u001b[0;32m--> 476\u001b[0m trees \u001b[38;5;241m=\u001b[39m \u001b[43mParallel\u001b[49m\u001b[43m(\u001b[49m\n\u001b[1;32m    477\u001b[0m \u001b[43m    \u001b[49m\u001b[43mn_jobs\u001b[49m\u001b[38;5;241;43m=\u001b[39;49m\u001b[38;5;28;43mself\u001b[39;49m\u001b[38;5;241;43m.\u001b[39;49m\u001b[43mn_jobs\u001b[49m\u001b[43m,\u001b[49m\n\u001b[1;32m    478\u001b[0m \u001b[43m    \u001b[49m\u001b[43mverbose\u001b[49m\u001b[38;5;241;43m=\u001b[39;49m\u001b[38;5;28;43mself\u001b[39;49m\u001b[38;5;241;43m.\u001b[39;49m\u001b[43mverbose\u001b[49m\u001b[43m,\u001b[49m\n\u001b[1;32m    479\u001b[0m \u001b[43m    \u001b[49m\u001b[43mprefer\u001b[49m\u001b[38;5;241;43m=\u001b[39;49m\u001b[38;5;124;43m\"\u001b[39;49m\u001b[38;5;124;43mthreads\u001b[39;49m\u001b[38;5;124;43m\"\u001b[39;49m\u001b[43m,\u001b[49m\n\u001b[1;32m    480\u001b[0m \u001b[43m\u001b[49m\u001b[43m)\u001b[49m\u001b[43m(\u001b[49m\n\u001b[1;32m    481\u001b[0m \u001b[43m    \u001b[49m\u001b[43mdelayed\u001b[49m\u001b[43m(\u001b[49m\u001b[43m_parallel_build_trees\u001b[49m\u001b[43m)\u001b[49m\u001b[43m(\u001b[49m\n\u001b[1;32m    482\u001b[0m \u001b[43m        \u001b[49m\u001b[43mt\u001b[49m\u001b[43m,\u001b[49m\n\u001b[1;32m    483\u001b[0m \u001b[43m        \u001b[49m\u001b[38;5;28;43mself\u001b[39;49m\u001b[38;5;241;43m.\u001b[39;49m\u001b[43mbootstrap\u001b[49m\u001b[43m,\u001b[49m\n\u001b[1;32m    484\u001b[0m \u001b[43m        \u001b[49m\u001b[43mX\u001b[49m\u001b[43m,\u001b[49m\n\u001b[1;32m    485\u001b[0m \u001b[43m        \u001b[49m\u001b[43my\u001b[49m\u001b[43m,\u001b[49m\n\u001b[1;32m    486\u001b[0m \u001b[43m        \u001b[49m\u001b[43msample_weight\u001b[49m\u001b[43m,\u001b[49m\n\u001b[1;32m    487\u001b[0m \u001b[43m        \u001b[49m\u001b[43mi\u001b[49m\u001b[43m,\u001b[49m\n\u001b[1;32m    488\u001b[0m \u001b[43m        \u001b[49m\u001b[38;5;28;43mlen\u001b[39;49m\u001b[43m(\u001b[49m\u001b[43mtrees\u001b[49m\u001b[43m)\u001b[49m\u001b[43m,\u001b[49m\n\u001b[1;32m    489\u001b[0m \u001b[43m        \u001b[49m\u001b[43mverbose\u001b[49m\u001b[38;5;241;43m=\u001b[39;49m\u001b[38;5;28;43mself\u001b[39;49m\u001b[38;5;241;43m.\u001b[39;49m\u001b[43mverbose\u001b[49m\u001b[43m,\u001b[49m\n\u001b[1;32m    490\u001b[0m \u001b[43m        \u001b[49m\u001b[43mclass_weight\u001b[49m\u001b[38;5;241;43m=\u001b[39;49m\u001b[38;5;28;43mself\u001b[39;49m\u001b[38;5;241;43m.\u001b[39;49m\u001b[43mclass_weight\u001b[49m\u001b[43m,\u001b[49m\n\u001b[1;32m    491\u001b[0m \u001b[43m        \u001b[49m\u001b[43mn_samples_bootstrap\u001b[49m\u001b[38;5;241;43m=\u001b[39;49m\u001b[43mn_samples_bootstrap\u001b[49m\u001b[43m,\u001b[49m\n\u001b[1;32m    492\u001b[0m \u001b[43m    \u001b[49m\u001b[43m)\u001b[49m\n\u001b[1;32m    493\u001b[0m \u001b[43m    \u001b[49m\u001b[38;5;28;43;01mfor\u001b[39;49;00m\u001b[43m \u001b[49m\u001b[43mi\u001b[49m\u001b[43m,\u001b[49m\u001b[43m \u001b[49m\u001b[43mt\u001b[49m\u001b[43m \u001b[49m\u001b[38;5;129;43;01min\u001b[39;49;00m\u001b[43m \u001b[49m\u001b[38;5;28;43menumerate\u001b[39;49m\u001b[43m(\u001b[49m\u001b[43mtrees\u001b[49m\u001b[43m)\u001b[49m\n\u001b[1;32m    494\u001b[0m \u001b[43m\u001b[49m\u001b[43m)\u001b[49m\n\u001b[1;32m    496\u001b[0m \u001b[38;5;66;03m# Collect newly grown trees\u001b[39;00m\n\u001b[1;32m    497\u001b[0m \u001b[38;5;28mself\u001b[39m\u001b[38;5;241m.\u001b[39mestimators_\u001b[38;5;241m.\u001b[39mextend(trees)\n",
      "File \u001b[0;32m/usr/local/lib/python3.9/site-packages/joblib/parallel.py:1046\u001b[0m, in \u001b[0;36mParallel.__call__\u001b[0;34m(self, iterable)\u001b[0m\n\u001b[1;32m   1043\u001b[0m \u001b[38;5;28;01mif\u001b[39;00m \u001b[38;5;28mself\u001b[39m\u001b[38;5;241m.\u001b[39mdispatch_one_batch(iterator):\n\u001b[1;32m   1044\u001b[0m     \u001b[38;5;28mself\u001b[39m\u001b[38;5;241m.\u001b[39m_iterating \u001b[38;5;241m=\u001b[39m \u001b[38;5;28mself\u001b[39m\u001b[38;5;241m.\u001b[39m_original_iterator \u001b[38;5;129;01mis\u001b[39;00m \u001b[38;5;129;01mnot\u001b[39;00m \u001b[38;5;28;01mNone\u001b[39;00m\n\u001b[0;32m-> 1046\u001b[0m \u001b[38;5;28;01mwhile\u001b[39;00m \u001b[38;5;28;43mself\u001b[39;49m\u001b[38;5;241;43m.\u001b[39;49m\u001b[43mdispatch_one_batch\u001b[49m\u001b[43m(\u001b[49m\u001b[43miterator\u001b[49m\u001b[43m)\u001b[49m:\n\u001b[1;32m   1047\u001b[0m     \u001b[38;5;28;01mpass\u001b[39;00m\n\u001b[1;32m   1049\u001b[0m \u001b[38;5;28;01mif\u001b[39;00m pre_dispatch \u001b[38;5;241m==\u001b[39m \u001b[38;5;124m\"\u001b[39m\u001b[38;5;124mall\u001b[39m\u001b[38;5;124m\"\u001b[39m \u001b[38;5;129;01mor\u001b[39;00m n_jobs \u001b[38;5;241m==\u001b[39m \u001b[38;5;241m1\u001b[39m:\n\u001b[1;32m   1050\u001b[0m     \u001b[38;5;66;03m# The iterable was consumed all at once by the above for loop.\u001b[39;00m\n\u001b[1;32m   1051\u001b[0m     \u001b[38;5;66;03m# No need to wait for async callbacks to trigger to\u001b[39;00m\n\u001b[1;32m   1052\u001b[0m     \u001b[38;5;66;03m# consumption.\u001b[39;00m\n",
      "File \u001b[0;32m/usr/local/lib/python3.9/site-packages/joblib/parallel.py:861\u001b[0m, in \u001b[0;36mParallel.dispatch_one_batch\u001b[0;34m(self, iterator)\u001b[0m\n\u001b[1;32m    859\u001b[0m     \u001b[38;5;28;01mreturn\u001b[39;00m \u001b[38;5;28;01mFalse\u001b[39;00m\n\u001b[1;32m    860\u001b[0m \u001b[38;5;28;01melse\u001b[39;00m:\n\u001b[0;32m--> 861\u001b[0m     \u001b[38;5;28;43mself\u001b[39;49m\u001b[38;5;241;43m.\u001b[39;49m\u001b[43m_dispatch\u001b[49m\u001b[43m(\u001b[49m\u001b[43mtasks\u001b[49m\u001b[43m)\u001b[49m\n\u001b[1;32m    862\u001b[0m     \u001b[38;5;28;01mreturn\u001b[39;00m \u001b[38;5;28;01mTrue\u001b[39;00m\n",
      "File \u001b[0;32m/usr/local/lib/python3.9/site-packages/joblib/parallel.py:779\u001b[0m, in \u001b[0;36mParallel._dispatch\u001b[0;34m(self, batch)\u001b[0m\n\u001b[1;32m    777\u001b[0m \u001b[38;5;28;01mwith\u001b[39;00m \u001b[38;5;28mself\u001b[39m\u001b[38;5;241m.\u001b[39m_lock:\n\u001b[1;32m    778\u001b[0m     job_idx \u001b[38;5;241m=\u001b[39m \u001b[38;5;28mlen\u001b[39m(\u001b[38;5;28mself\u001b[39m\u001b[38;5;241m.\u001b[39m_jobs)\n\u001b[0;32m--> 779\u001b[0m     job \u001b[38;5;241m=\u001b[39m \u001b[38;5;28;43mself\u001b[39;49m\u001b[38;5;241;43m.\u001b[39;49m\u001b[43m_backend\u001b[49m\u001b[38;5;241;43m.\u001b[39;49m\u001b[43mapply_async\u001b[49m\u001b[43m(\u001b[49m\u001b[43mbatch\u001b[49m\u001b[43m,\u001b[49m\u001b[43m \u001b[49m\u001b[43mcallback\u001b[49m\u001b[38;5;241;43m=\u001b[39;49m\u001b[43mcb\u001b[49m\u001b[43m)\u001b[49m\n\u001b[1;32m    780\u001b[0m     \u001b[38;5;66;03m# A job can complete so quickly than its callback is\u001b[39;00m\n\u001b[1;32m    781\u001b[0m     \u001b[38;5;66;03m# called before we get here, causing self._jobs to\u001b[39;00m\n\u001b[1;32m    782\u001b[0m     \u001b[38;5;66;03m# grow. To ensure correct results ordering, .insert is\u001b[39;00m\n\u001b[1;32m    783\u001b[0m     \u001b[38;5;66;03m# used (rather than .append) in the following line\u001b[39;00m\n\u001b[1;32m    784\u001b[0m     \u001b[38;5;28mself\u001b[39m\u001b[38;5;241m.\u001b[39m_jobs\u001b[38;5;241m.\u001b[39minsert(job_idx, job)\n",
      "File \u001b[0;32m/usr/local/lib/python3.9/site-packages/joblib/_parallel_backends.py:208\u001b[0m, in \u001b[0;36mSequentialBackend.apply_async\u001b[0;34m(self, func, callback)\u001b[0m\n\u001b[1;32m    206\u001b[0m \u001b[38;5;28;01mdef\u001b[39;00m \u001b[38;5;21mapply_async\u001b[39m(\u001b[38;5;28mself\u001b[39m, func, callback\u001b[38;5;241m=\u001b[39m\u001b[38;5;28;01mNone\u001b[39;00m):\n\u001b[1;32m    207\u001b[0m     \u001b[38;5;124;03m\"\"\"Schedule a func to be run\"\"\"\u001b[39;00m\n\u001b[0;32m--> 208\u001b[0m     result \u001b[38;5;241m=\u001b[39m \u001b[43mImmediateResult\u001b[49m\u001b[43m(\u001b[49m\u001b[43mfunc\u001b[49m\u001b[43m)\u001b[49m\n\u001b[1;32m    209\u001b[0m     \u001b[38;5;28;01mif\u001b[39;00m callback:\n\u001b[1;32m    210\u001b[0m         callback(result)\n",
      "File \u001b[0;32m/usr/local/lib/python3.9/site-packages/joblib/_parallel_backends.py:572\u001b[0m, in \u001b[0;36mImmediateResult.__init__\u001b[0;34m(self, batch)\u001b[0m\n\u001b[1;32m    569\u001b[0m \u001b[38;5;28;01mdef\u001b[39;00m \u001b[38;5;21m__init__\u001b[39m(\u001b[38;5;28mself\u001b[39m, batch):\n\u001b[1;32m    570\u001b[0m     \u001b[38;5;66;03m# Don't delay the application, to avoid keeping the input\u001b[39;00m\n\u001b[1;32m    571\u001b[0m     \u001b[38;5;66;03m# arguments in memory\u001b[39;00m\n\u001b[0;32m--> 572\u001b[0m     \u001b[38;5;28mself\u001b[39m\u001b[38;5;241m.\u001b[39mresults \u001b[38;5;241m=\u001b[39m \u001b[43mbatch\u001b[49m\u001b[43m(\u001b[49m\u001b[43m)\u001b[49m\n",
      "File \u001b[0;32m/usr/local/lib/python3.9/site-packages/joblib/parallel.py:262\u001b[0m, in \u001b[0;36mBatchedCalls.__call__\u001b[0;34m(self)\u001b[0m\n\u001b[1;32m    258\u001b[0m \u001b[38;5;28;01mdef\u001b[39;00m \u001b[38;5;21m__call__\u001b[39m(\u001b[38;5;28mself\u001b[39m):\n\u001b[1;32m    259\u001b[0m     \u001b[38;5;66;03m# Set the default nested backend to self._backend but do not set the\u001b[39;00m\n\u001b[1;32m    260\u001b[0m     \u001b[38;5;66;03m# change the default number of processes to -1\u001b[39;00m\n\u001b[1;32m    261\u001b[0m     \u001b[38;5;28;01mwith\u001b[39;00m parallel_backend(\u001b[38;5;28mself\u001b[39m\u001b[38;5;241m.\u001b[39m_backend, n_jobs\u001b[38;5;241m=\u001b[39m\u001b[38;5;28mself\u001b[39m\u001b[38;5;241m.\u001b[39m_n_jobs):\n\u001b[0;32m--> 262\u001b[0m         \u001b[38;5;28;01mreturn\u001b[39;00m [func(\u001b[38;5;241m*\u001b[39margs, \u001b[38;5;241m*\u001b[39m\u001b[38;5;241m*\u001b[39mkwargs)\n\u001b[1;32m    263\u001b[0m                 \u001b[38;5;28;01mfor\u001b[39;00m func, args, kwargs \u001b[38;5;129;01min\u001b[39;00m \u001b[38;5;28mself\u001b[39m\u001b[38;5;241m.\u001b[39mitems]\n",
      "File \u001b[0;32m/usr/local/lib/python3.9/site-packages/joblib/parallel.py:262\u001b[0m, in \u001b[0;36m<listcomp>\u001b[0;34m(.0)\u001b[0m\n\u001b[1;32m    258\u001b[0m \u001b[38;5;28;01mdef\u001b[39;00m \u001b[38;5;21m__call__\u001b[39m(\u001b[38;5;28mself\u001b[39m):\n\u001b[1;32m    259\u001b[0m     \u001b[38;5;66;03m# Set the default nested backend to self._backend but do not set the\u001b[39;00m\n\u001b[1;32m    260\u001b[0m     \u001b[38;5;66;03m# change the default number of processes to -1\u001b[39;00m\n\u001b[1;32m    261\u001b[0m     \u001b[38;5;28;01mwith\u001b[39;00m parallel_backend(\u001b[38;5;28mself\u001b[39m\u001b[38;5;241m.\u001b[39m_backend, n_jobs\u001b[38;5;241m=\u001b[39m\u001b[38;5;28mself\u001b[39m\u001b[38;5;241m.\u001b[39m_n_jobs):\n\u001b[0;32m--> 262\u001b[0m         \u001b[38;5;28;01mreturn\u001b[39;00m [\u001b[43mfunc\u001b[49m\u001b[43m(\u001b[49m\u001b[38;5;241;43m*\u001b[39;49m\u001b[43margs\u001b[49m\u001b[43m,\u001b[49m\u001b[43m \u001b[49m\u001b[38;5;241;43m*\u001b[39;49m\u001b[38;5;241;43m*\u001b[39;49m\u001b[43mkwargs\u001b[49m\u001b[43m)\u001b[49m\n\u001b[1;32m    263\u001b[0m                 \u001b[38;5;28;01mfor\u001b[39;00m func, args, kwargs \u001b[38;5;129;01min\u001b[39;00m \u001b[38;5;28mself\u001b[39m\u001b[38;5;241m.\u001b[39mitems]\n",
      "File \u001b[0;32m/usr/local/lib/python3.9/site-packages/sklearn/utils/fixes.py:117\u001b[0m, in \u001b[0;36m_FuncWrapper.__call__\u001b[0;34m(self, *args, **kwargs)\u001b[0m\n\u001b[1;32m    115\u001b[0m \u001b[38;5;28;01mdef\u001b[39;00m \u001b[38;5;21m__call__\u001b[39m(\u001b[38;5;28mself\u001b[39m, \u001b[38;5;241m*\u001b[39margs, \u001b[38;5;241m*\u001b[39m\u001b[38;5;241m*\u001b[39mkwargs):\n\u001b[1;32m    116\u001b[0m     \u001b[38;5;28;01mwith\u001b[39;00m config_context(\u001b[38;5;241m*\u001b[39m\u001b[38;5;241m*\u001b[39m\u001b[38;5;28mself\u001b[39m\u001b[38;5;241m.\u001b[39mconfig):\n\u001b[0;32m--> 117\u001b[0m         \u001b[38;5;28;01mreturn\u001b[39;00m \u001b[38;5;28;43mself\u001b[39;49m\u001b[38;5;241;43m.\u001b[39;49m\u001b[43mfunction\u001b[49m\u001b[43m(\u001b[49m\u001b[38;5;241;43m*\u001b[39;49m\u001b[43margs\u001b[49m\u001b[43m,\u001b[49m\u001b[43m \u001b[49m\u001b[38;5;241;43m*\u001b[39;49m\u001b[38;5;241;43m*\u001b[39;49m\u001b[43mkwargs\u001b[49m\u001b[43m)\u001b[49m\n",
      "File \u001b[0;32m/usr/local/lib/python3.9/site-packages/sklearn/ensemble/_forest.py:189\u001b[0m, in \u001b[0;36m_parallel_build_trees\u001b[0;34m(tree, bootstrap, X, y, sample_weight, tree_idx, n_trees, verbose, class_weight, n_samples_bootstrap)\u001b[0m\n\u001b[1;32m    186\u001b[0m     \u001b[38;5;28;01melif\u001b[39;00m class_weight \u001b[38;5;241m==\u001b[39m \u001b[38;5;124m\"\u001b[39m\u001b[38;5;124mbalanced_subsample\u001b[39m\u001b[38;5;124m\"\u001b[39m:\n\u001b[1;32m    187\u001b[0m         curr_sample_weight \u001b[38;5;241m*\u001b[39m\u001b[38;5;241m=\u001b[39m compute_sample_weight(\u001b[38;5;124m\"\u001b[39m\u001b[38;5;124mbalanced\u001b[39m\u001b[38;5;124m\"\u001b[39m, y, indices\u001b[38;5;241m=\u001b[39mindices)\n\u001b[0;32m--> 189\u001b[0m     \u001b[43mtree\u001b[49m\u001b[38;5;241;43m.\u001b[39;49m\u001b[43mfit\u001b[49m\u001b[43m(\u001b[49m\u001b[43mX\u001b[49m\u001b[43m,\u001b[49m\u001b[43m \u001b[49m\u001b[43my\u001b[49m\u001b[43m,\u001b[49m\u001b[43m \u001b[49m\u001b[43msample_weight\u001b[49m\u001b[38;5;241;43m=\u001b[39;49m\u001b[43mcurr_sample_weight\u001b[49m\u001b[43m,\u001b[49m\u001b[43m \u001b[49m\u001b[43mcheck_input\u001b[49m\u001b[38;5;241;43m=\u001b[39;49m\u001b[38;5;28;43;01mFalse\u001b[39;49;00m\u001b[43m)\u001b[49m\n\u001b[1;32m    190\u001b[0m \u001b[38;5;28;01melse\u001b[39;00m:\n\u001b[1;32m    191\u001b[0m     tree\u001b[38;5;241m.\u001b[39mfit(X, y, sample_weight\u001b[38;5;241m=\u001b[39msample_weight, check_input\u001b[38;5;241m=\u001b[39m\u001b[38;5;28;01mFalse\u001b[39;00m)\n",
      "File \u001b[0;32m/usr/local/lib/python3.9/site-packages/sklearn/tree/_classes.py:969\u001b[0m, in \u001b[0;36mDecisionTreeClassifier.fit\u001b[0;34m(self, X, y, sample_weight, check_input)\u001b[0m\n\u001b[1;32m    939\u001b[0m \u001b[38;5;28;01mdef\u001b[39;00m \u001b[38;5;21mfit\u001b[39m(\u001b[38;5;28mself\u001b[39m, X, y, sample_weight\u001b[38;5;241m=\u001b[39m\u001b[38;5;28;01mNone\u001b[39;00m, check_input\u001b[38;5;241m=\u001b[39m\u001b[38;5;28;01mTrue\u001b[39;00m):\n\u001b[1;32m    940\u001b[0m     \u001b[38;5;124;03m\"\"\"Build a decision tree classifier from the training set (X, y).\u001b[39;00m\n\u001b[1;32m    941\u001b[0m \n\u001b[1;32m    942\u001b[0m \u001b[38;5;124;03m    Parameters\u001b[39;00m\n\u001b[0;32m   (...)\u001b[0m\n\u001b[1;32m    966\u001b[0m \u001b[38;5;124;03m        Fitted estimator.\u001b[39;00m\n\u001b[1;32m    967\u001b[0m \u001b[38;5;124;03m    \"\"\"\u001b[39;00m\n\u001b[0;32m--> 969\u001b[0m     \u001b[38;5;28;43msuper\u001b[39;49m\u001b[43m(\u001b[49m\u001b[43m)\u001b[49m\u001b[38;5;241;43m.\u001b[39;49m\u001b[43mfit\u001b[49m\u001b[43m(\u001b[49m\n\u001b[1;32m    970\u001b[0m \u001b[43m        \u001b[49m\u001b[43mX\u001b[49m\u001b[43m,\u001b[49m\n\u001b[1;32m    971\u001b[0m \u001b[43m        \u001b[49m\u001b[43my\u001b[49m\u001b[43m,\u001b[49m\n\u001b[1;32m    972\u001b[0m \u001b[43m        \u001b[49m\u001b[43msample_weight\u001b[49m\u001b[38;5;241;43m=\u001b[39;49m\u001b[43msample_weight\u001b[49m\u001b[43m,\u001b[49m\n\u001b[1;32m    973\u001b[0m \u001b[43m        \u001b[49m\u001b[43mcheck_input\u001b[49m\u001b[38;5;241;43m=\u001b[39;49m\u001b[43mcheck_input\u001b[49m\u001b[43m,\u001b[49m\n\u001b[1;32m    974\u001b[0m \u001b[43m    \u001b[49m\u001b[43m)\u001b[49m\n\u001b[1;32m    975\u001b[0m     \u001b[38;5;28;01mreturn\u001b[39;00m \u001b[38;5;28mself\u001b[39m\n",
      "File \u001b[0;32m/usr/local/lib/python3.9/site-packages/sklearn/tree/_classes.py:458\u001b[0m, in \u001b[0;36mBaseDecisionTree.fit\u001b[0;34m(self, X, y, sample_weight, check_input)\u001b[0m\n\u001b[1;32m    447\u001b[0m \u001b[38;5;28;01melse\u001b[39;00m:\n\u001b[1;32m    448\u001b[0m     builder \u001b[38;5;241m=\u001b[39m BestFirstTreeBuilder(\n\u001b[1;32m    449\u001b[0m         splitter,\n\u001b[1;32m    450\u001b[0m         min_samples_split,\n\u001b[0;32m   (...)\u001b[0m\n\u001b[1;32m    455\u001b[0m         \u001b[38;5;28mself\u001b[39m\u001b[38;5;241m.\u001b[39mmin_impurity_decrease,\n\u001b[1;32m    456\u001b[0m     )\n\u001b[0;32m--> 458\u001b[0m \u001b[43mbuilder\u001b[49m\u001b[38;5;241;43m.\u001b[39;49m\u001b[43mbuild\u001b[49m\u001b[43m(\u001b[49m\u001b[38;5;28;43mself\u001b[39;49m\u001b[38;5;241;43m.\u001b[39;49m\u001b[43mtree_\u001b[49m\u001b[43m,\u001b[49m\u001b[43m \u001b[49m\u001b[43mX\u001b[49m\u001b[43m,\u001b[49m\u001b[43m \u001b[49m\u001b[43my\u001b[49m\u001b[43m,\u001b[49m\u001b[43m \u001b[49m\u001b[43msample_weight\u001b[49m\u001b[43m)\u001b[49m\n\u001b[1;32m    460\u001b[0m \u001b[38;5;28;01mif\u001b[39;00m \u001b[38;5;28mself\u001b[39m\u001b[38;5;241m.\u001b[39mn_outputs_ \u001b[38;5;241m==\u001b[39m \u001b[38;5;241m1\u001b[39m \u001b[38;5;129;01mand\u001b[39;00m is_classifier(\u001b[38;5;28mself\u001b[39m):\n\u001b[1;32m    461\u001b[0m     \u001b[38;5;28mself\u001b[39m\u001b[38;5;241m.\u001b[39mn_classes_ \u001b[38;5;241m=\u001b[39m \u001b[38;5;28mself\u001b[39m\u001b[38;5;241m.\u001b[39mn_classes_[\u001b[38;5;241m0\u001b[39m]\n",
      "\u001b[0;31mKeyboardInterrupt\u001b[0m: "
     ]
    }
   ],
   "source": [
    "best_RFC_model = None\n",
    "best_RFC_result = 0\n",
    "\n",
    "for est in range(1, 100):\n",
    "    for depth in range(1, 30):\n",
    "        model = RandomForestClassifier(random_state=12345, n_estimators=est, max_depth=depth) \n",
    "        model.fit(features_train,target_train) \n",
    "        result = model.score(features_valid,target_valid) \n",
    "        if result > best_RFC_result:\n",
    "            best_RFC_model = model \n",
    "            best_RFC_result = result \n",
    "\n",
    "print(\"Accuracy наилучшей модели на валидационной выборке:\", best_RFC_result)\n",
    "print(\"Параметры наилучшей модели:\", best_RFC_model)"
   ]
  },
  {
   "cell_type": "markdown",
   "metadata": {},
   "source": [
    "### Найдем F1-меру моделью случайного леса с подобранными параметрами и увелченной выборкой"
   ]
  },
  {
   "cell_type": "code",
   "execution_count": 13,
   "metadata": {},
   "outputs": [
    {
     "name": "stdout",
     "output_type": "stream",
     "text": [
      "F1: 0.5067385444743935\n"
     ]
    }
   ],
   "source": [
    "features_upsampled, target_upsampled = upsample(features_train, target_train, 4)\n",
    "model =LogisticRegression(random_state=12345) #n_estimators=100,max_depth=21) \n",
    "model.fit(features_upsampled, target_upsampled) \n",
    "predicted_valid=model.predict(features_valid)\n",
    "print(\"F1:\", f1_score(target_valid, predicted_valid))"
   ]
  },
  {
   "cell_type": "markdown",
   "metadata": {},
   "source": [
    "### Переберем значения порогов для нахождения максимальной F1"
   ]
  },
  {
   "cell_type": "code",
   "execution_count": 14,
   "metadata": {},
   "outputs": [
    {
     "name": "stdout",
     "output_type": "stream",
     "text": [
      "Порог = 0.00 | Точность = 0.229, Полнота = 0.993,F1 = 0.372 \n",
      "Порог = 0.02 | Точность = 0.246, Полнота = 0.978,F1 = 0.393 \n",
      "Порог = 0.04 | Точность = 0.282, Полнота = 0.951,F1 = 0.434 \n",
      "Порог = 0.06 | Точность = 0.300, Полнота = 0.944,F1 = 0.456 \n",
      "Порог = 0.08 | Точность = 0.326, Полнота = 0.910,F1 = 0.480 \n",
      "Порог = 0.10 | Точность = 0.353, Полнота = 0.892,F1 = 0.506 \n",
      "Порог = 0.12 | Точность = 0.365, Полнота = 0.865,F1 = 0.513 \n",
      "Порог = 0.14 | Точность = 0.397, Полнота = 0.836,F1 = 0.538 \n",
      "Порог = 0.16 | Точность = 0.425, Полнота = 0.817,F1 = 0.559 \n",
      "Порог = 0.18 | Точность = 0.446, Полнота = 0.813,F1 = 0.576 \n",
      "Порог = 0.20 | Точность = 0.475, Полнота = 0.806,F1 = 0.598 \n",
      "Порог = 0.22 | Точность = 0.502, Полнота = 0.768,F1 = 0.607 \n",
      "Порог = 0.24 | Точность = 0.520, Полнота = 0.755,F1 = 0.616 \n",
      "Порог = 0.26 | Точность = 0.552, Полнота = 0.731,F1 = 0.629 \n",
      "Порог = 0.28 | Точность = 0.561, Полнота = 0.699,F1 = 0.622 \n",
      "Порог = 0.30 | Точность = 0.592, Полнота = 0.669,F1 = 0.628 \n",
      "Порог = 0.32 | Точность = 0.628, Полнота = 0.645,F1 = 0.637 \n",
      "Порог = 0.34 | Точность = 0.638, Полнота = 0.628,F1 = 0.633 \n",
      "Порог = 0.36 | Точность = 0.659, Полнота = 0.613,F1 = 0.635 \n",
      "Порог = 0.38 | Точность = 0.679, Полнота = 0.585,F1 = 0.629 \n",
      "Порог = 0.40 | Точность = 0.687, Полнота = 0.578,F1 = 0.627 \n",
      "Порог = 0.42 | Точность = 0.702, Полнота = 0.542,F1 = 0.612 \n",
      "Порог = 0.44 | Точность = 0.722, Полнота = 0.510,F1 = 0.598 \n",
      "Порог = 0.46 | Точность = 0.737, Полнота = 0.497,F1 = 0.594 \n",
      "Порог = 0.48 | Точность = 0.755, Полнота = 0.465,F1 = 0.576 \n",
      "Порог = 0.50 | Точность = 0.771, Полнота = 0.441,F1 = 0.561 \n",
      "Порог = 0.52 | Точность = 0.773, Полнота = 0.426,F1 = 0.549 \n",
      "Порог = 0.54 | Точность = 0.785, Полнота = 0.402,F1 = 0.532 \n",
      "Порог = 0.56 | Точность = 0.806, Полнота = 0.396,F1 = 0.531 \n",
      "Порог = 0.58 | Точность = 0.820, Полнота = 0.376,F1 = 0.515 \n",
      "Порог = 0.60 | Точность = 0.830, Полнота = 0.357,F1 = 0.499 \n",
      "Порог = 0.62 | Точность = 0.832, Полнота = 0.342,F1 = 0.485 \n",
      "Порог = 0.64 | Точность = 0.837, Полнота = 0.318,F1 = 0.461 \n",
      "Порог = 0.66 | Точность = 0.850, Полнота = 0.307,F1 = 0.451 \n",
      "Порог = 0.68 | Точность = 0.859, Полнота = 0.295,F1 = 0.439 \n",
      "Порог = 0.70 | Точность = 0.861, Полнота = 0.279,F1 = 0.421 \n",
      "Порог = 0.72 | Точность = 0.872, Полнота = 0.254,F1 = 0.394 \n",
      "Порог = 0.74 | Точность = 0.870, Полнота = 0.250,F1 = 0.389 \n",
      "Порог = 0.76 | Точность = 0.876, Полнота = 0.224,F1 = 0.357 \n",
      "Порог = 0.78 | Точность = 0.877, Полнота = 0.213,F1 = 0.343 \n"
     ]
    }
   ],
   "source": [
    "import numpy as np\n",
    "model = RandomForestClassifier(random_state=12345, n_estimators=82,max_depth=21) \n",
    "model.fit(features_train, target_train)\n",
    "probabilities_valid = model.predict_proba(features_valid)\n",
    "probabilities_one_valid = probabilities_valid[:, 1]\n",
    "\n",
    "for threshold in np.arange(0, 0.8, 0.02):\n",
    "    predicted_valid = probabilities_one_valid > threshold \n",
    "    precision = precision_score(target_valid,predicted_valid)\n",
    "    recall = recall_score(target_valid,predicted_valid)\n",
    "    f = f1_score(target_valid, predicted_valid)\n",
    "    print(\"Порог = {:.2f} | Точность = {:.3f}, Полнота = {:.3f},F1 = {:.3f} \".format(\n",
    "        threshold, precision, recall,f))"
   ]
  },
  {
   "cell_type": "code",
   "execution_count": 16,
   "metadata": {},
   "outputs": [
    {
     "data": {
      "image/png": "[encoded data removed]",
      "text/plain": [
       "<Figure size 432x432 with 1 Axes>"
      ]
     },
     "metadata": {
      "needs_background": "light"
     },
     "output_type": "display_data"
    }
   ],
   "source": [
    "probabilities_valid = model.predict_proba(features_valid)\n",
    "precision, recall, thresholds = precision_recall_curve(target_valid, probabilities_valid[:, 1])\n",
    "\n",
    "plt.figure(figsize=(6, 6))\n",
    "plt.step(recall, precision, where='post')\n",
    "plt.xlabel('Recall')\n",
    "plt.ylabel('Precision')\n",
    "plt.ylim([0.0, 1.05])\n",
    "plt.xlim([0.0, 1.0])\n",
    "plt.title('Кривая Precision-Recall')\n",
    "plt.show() "
   ]
  },
  {
   "cell_type": "markdown",
   "metadata": {},
   "source": [
    "**Вывод**\n",
    "\n",
    "    Модель Случайного леса с подобранными значениями параметров показала лучший результат, по сравнению с моделью логисстической регрессии.\n",
    "    При значениях Порога = 0.3 , мы достигаем Точности = 0.602, Полноты = 0.669 и F1-меры = 0.634\n",
    "    "
   ]
  },
  {
   "cell_type": "markdown",
   "metadata": {},
   "source": [
    "## Исследуем метрику AUC-ROC"
   ]
  },
  {
   "cell_type": "code",
   "execution_count": 17,
   "metadata": {},
   "outputs": [
    {
     "name": "stdout",
     "output_type": "stream",
     "text": [
      "Значение AUC-ROC: 0.8527859028322751\n"
     ]
    },
    {
     "data": {
      "image/png": "[encoded data removed]",
      "text/plain": [
       "<Figure size 432x288 with 1 Axes>"
      ]
     },
     "metadata": {
      "needs_background": "light"
     },
     "output_type": "display_data"
    }
   ],
   "source": [
    "fpr, tpr, thresholds = roc_curve(target_valid, probabilities_one_valid)\n",
    "plt.figure()\n",
    "plt.plot(fpr, tpr)\n",
    "plt.plot([0, 1], [0, 1], linestyle='--')\n",
    "plt.xlim([0,1])\n",
    "plt.ylim([0,1])\n",
    "plt.xlabel('False Positive Rate')\n",
    "plt.ylabel('True Positive Rate')\n",
    "plt.title(\"ROC-кривая\")\n",
    "auc_roc=roc_auc_score(target_valid,probabilities_one_valid)\n",
    "print(\"Значение AUC-ROC:\",auc_roc)\n",
    "plt.show()"
   ]
  },
  {
   "cell_type": "code",
   "execution_count": null,
   "metadata": {},
   "outputs": [],
   "source": []
  },
  {
   "cell_type": "code",
   "execution_count": null,
   "metadata": {},
   "outputs": [],
   "source": []
  }
 ],
 "metadata": {
  "ExecuteTimeLog": [
   {
    "duration": 1382,
    "start_time": "2022-03-09T19:48:28.100Z"
   },
   {
    "duration": 14,
    "start_time": "2022-03-09T19:55:27.505Z"
   },
   {
    "duration": 38,
    "start_time": "2022-03-09T20:01:13.704Z"
   },
   {
    "duration": 5444,
    "start_time": "2022-03-09T20:07:44.705Z"
   },
   {
    "duration": 20,
    "start_time": "2022-03-09T20:07:55.703Z"
   },
   {
    "duration": 28,
    "start_time": "2022-03-09T20:08:21.882Z"
   },
   {
    "duration": 252,
    "start_time": "2022-03-09T21:03:47.597Z"
   },
   {
    "duration": 7,
    "start_time": "2022-03-09T21:04:10.181Z"
   },
   {
    "duration": 6,
    "start_time": "2022-03-09T21:04:13.623Z"
   },
   {
    "duration": 4,
    "start_time": "2022-03-09T21:04:27.741Z"
   },
   {
    "duration": 5,
    "start_time": "2022-03-09T21:04:31.578Z"
   },
   {
    "duration": 241,
    "start_time": "2022-03-09T21:07:51.234Z"
   },
   {
    "duration": 233,
    "start_time": "2022-03-09T21:08:13.148Z"
   },
   {
    "duration": 230,
    "start_time": "2022-03-09T21:46:41.745Z"
   },
   {
    "duration": 38,
    "start_time": "2022-03-09T21:47:14.567Z"
   },
   {
    "duration": 6,
    "start_time": "2022-03-09T21:47:18.587Z"
   },
   {
    "duration": 6,
    "start_time": "2022-03-09T21:47:21.325Z"
   },
   {
    "duration": 7,
    "start_time": "2022-03-09T21:47:22.765Z"
   },
   {
    "duration": 5,
    "start_time": "2022-03-09T21:47:26.141Z"
   },
   {
    "duration": 5,
    "start_time": "2022-03-09T21:47:27.622Z"
   },
   {
    "duration": 7,
    "start_time": "2022-03-09T21:48:02.472Z"
   },
   {
    "duration": 6,
    "start_time": "2022-03-09T21:48:06.537Z"
   },
   {
    "duration": 5,
    "start_time": "2022-03-09T21:48:16.003Z"
   },
   {
    "duration": 7,
    "start_time": "2022-03-09T21:56:56.807Z"
   },
   {
    "duration": 34,
    "start_time": "2022-03-09T21:57:10.821Z"
   },
   {
    "duration": 281,
    "start_time": "2022-03-09T22:02:31.108Z"
   },
   {
    "duration": 252,
    "start_time": "2022-03-09T22:02:35.297Z"
   },
   {
    "duration": 7,
    "start_time": "2022-03-09T22:02:43.249Z"
   },
   {
    "duration": 248,
    "start_time": "2022-03-09T22:05:36.868Z"
   },
   {
    "duration": 68,
    "start_time": "2022-03-09T22:09:56.314Z"
   },
   {
    "duration": 4,
    "start_time": "2022-03-09T22:10:08.029Z"
   },
   {
    "duration": 4,
    "start_time": "2022-03-09T22:10:12.668Z"
   },
   {
    "duration": 7,
    "start_time": "2022-03-09T22:10:15.824Z"
   },
   {
    "duration": 8,
    "start_time": "2022-03-09T22:10:26.152Z"
   },
   {
    "duration": 225,
    "start_time": "2022-03-09T22:10:51.553Z"
   },
   {
    "duration": 9,
    "start_time": "2022-03-09T22:10:57.888Z"
   },
   {
    "duration": 18,
    "start_time": "2022-03-09T22:11:15.508Z"
   },
   {
    "duration": 7,
    "start_time": "2022-03-09T22:11:25.967Z"
   },
   {
    "duration": 7,
    "start_time": "2022-03-09T22:14:27.231Z"
   },
   {
    "duration": 16,
    "start_time": "2022-03-09T22:14:36.586Z"
   },
   {
    "duration": 12,
    "start_time": "2022-03-09T22:14:53.229Z"
   },
   {
    "duration": 12,
    "start_time": "2022-03-09T22:14:56.696Z"
   },
   {
    "duration": 6,
    "start_time": "2022-03-09T22:15:44.631Z"
   },
   {
    "duration": 5,
    "start_time": "2022-03-09T22:15:53.237Z"
   },
   {
    "duration": 72,
    "start_time": "2022-03-09T22:16:13.856Z"
   },
   {
    "duration": 5,
    "start_time": "2022-03-09T22:16:24.007Z"
   },
   {
    "duration": 74,
    "start_time": "2022-03-09T22:16:40.830Z"
   },
   {
    "duration": 72,
    "start_time": "2022-03-09T22:17:17.985Z"
   },
   {
    "duration": 84,
    "start_time": "2022-03-09T22:17:21.813Z"
   },
   {
    "duration": 72,
    "start_time": "2022-03-09T22:17:27.139Z"
   },
   {
    "duration": 74,
    "start_time": "2022-03-09T22:17:33.344Z"
   },
   {
    "duration": 74,
    "start_time": "2022-03-09T22:18:39.178Z"
   },
   {
    "duration": 86,
    "start_time": "2022-03-09T22:18:43.418Z"
   },
   {
    "duration": 89,
    "start_time": "2022-03-09T22:18:49.981Z"
   },
   {
    "duration": 7,
    "start_time": "2022-03-09T22:20:11.006Z"
   },
   {
    "duration": 7,
    "start_time": "2022-03-09T22:20:20.156Z"
   },
   {
    "duration": 7,
    "start_time": "2022-03-09T22:23:05.430Z"
   },
   {
    "duration": 85,
    "start_time": "2022-03-09T22:23:29.657Z"
   },
   {
    "duration": 73,
    "start_time": "2022-03-09T22:23:33.240Z"
   },
   {
    "duration": 6,
    "start_time": "2022-03-09T22:23:42.578Z"
   },
   {
    "duration": 27,
    "start_time": "2022-03-09T22:27:39.290Z"
   },
   {
    "duration": 14,
    "start_time": "2022-03-09T22:28:14.267Z"
   },
   {
    "duration": 91,
    "start_time": "2022-03-09T22:52:54.265Z"
   },
   {
    "duration": 221,
    "start_time": "2022-03-09T22:53:16.749Z"
   },
   {
    "duration": 230,
    "start_time": "2022-03-09T22:53:26.655Z"
   },
   {
    "duration": 34,
    "start_time": "2022-03-09T22:54:12.847Z"
   },
   {
    "duration": 223,
    "start_time": "2022-03-09T22:54:30.587Z"
   },
   {
    "duration": 237,
    "start_time": "2022-03-09T22:54:39.068Z"
   },
   {
    "duration": 33,
    "start_time": "2022-03-09T22:54:51.359Z"
   },
   {
    "duration": 34,
    "start_time": "2022-03-09T22:55:11.706Z"
   },
   {
    "duration": 37,
    "start_time": "2022-03-09T22:55:20.494Z"
   },
   {
    "duration": 35,
    "start_time": "2022-03-09T22:55:35.929Z"
   },
   {
    "duration": 31,
    "start_time": "2022-03-09T22:56:57.610Z"
   },
   {
    "duration": 33,
    "start_time": "2022-03-09T22:57:09.142Z"
   },
   {
    "duration": 32,
    "start_time": "2022-03-09T22:57:14.541Z"
   },
   {
    "duration": 9,
    "start_time": "2022-03-09T22:57:44.481Z"
   },
   {
    "duration": 237,
    "start_time": "2022-03-09T22:57:48.678Z"
   },
   {
    "duration": 241,
    "start_time": "2022-03-09T22:57:58.756Z"
   },
   {
    "duration": 212,
    "start_time": "2022-03-09T22:58:05.124Z"
   },
   {
    "duration": 39,
    "start_time": "2022-03-09T22:58:19.454Z"
   },
   {
    "duration": 23,
    "start_time": "2022-03-09T22:58:26.322Z"
   },
   {
    "duration": 237,
    "start_time": "2022-03-09T23:04:13.755Z"
   },
   {
    "duration": 35,
    "start_time": "2022-03-09T23:04:21.330Z"
   },
   {
    "duration": 6,
    "start_time": "2022-03-09T23:04:23.257Z"
   },
   {
    "duration": 14,
    "start_time": "2022-03-09T23:04:23.545Z"
   },
   {
    "duration": 22,
    "start_time": "2022-03-09T23:04:24.511Z"
   },
   {
    "duration": 12,
    "start_time": "2022-03-09T23:04:27.594Z"
   },
   {
    "duration": 238,
    "start_time": "2022-03-09T23:08:52.594Z"
   },
   {
    "duration": 266,
    "start_time": "2022-03-09T23:09:20.280Z"
   },
   {
    "duration": 58,
    "start_time": "2022-03-09T23:20:18.582Z"
   },
   {
    "duration": 70,
    "start_time": "2022-03-09T23:20:45.312Z"
   },
   {
    "duration": 1413,
    "start_time": "2022-03-10T21:54:30.590Z"
   },
   {
    "duration": 7,
    "start_time": "2022-03-10T21:54:33.556Z"
   },
   {
    "duration": 15,
    "start_time": "2022-03-10T21:54:34.258Z"
   },
   {
    "duration": 32,
    "start_time": "2022-03-10T21:54:35.949Z"
   },
   {
    "duration": 76,
    "start_time": "2022-03-10T21:54:37.173Z"
   },
   {
    "duration": 72,
    "start_time": "2022-03-10T21:57:53.282Z"
   },
   {
    "duration": 70,
    "start_time": "2022-03-10T22:01:49.390Z"
   },
   {
    "duration": 4,
    "start_time": "2022-03-10T22:03:23.793Z"
   },
   {
    "duration": 61,
    "start_time": "2022-03-10T22:05:51.595Z"
   },
   {
    "duration": 450,
    "start_time": "2022-03-10T22:13:09.649Z"
   },
   {
    "duration": 64,
    "start_time": "2022-03-10T22:13:23.657Z"
   },
   {
    "duration": 354,
    "start_time": "2022-03-10T22:14:46.034Z"
   },
   {
    "duration": 37,
    "start_time": "2022-03-10T22:14:53.207Z"
   },
   {
    "duration": 6,
    "start_time": "2022-03-10T22:14:57.794Z"
   },
   {
    "duration": 15,
    "start_time": "2022-03-10T22:14:59.452Z"
   },
   {
    "duration": 24,
    "start_time": "2022-03-10T22:15:00.909Z"
   },
   {
    "duration": 100,
    "start_time": "2022-03-10T22:15:11.183Z"
   },
   {
    "duration": 53,
    "start_time": "2022-03-10T22:15:15.711Z"
   },
   {
    "duration": 55,
    "start_time": "2022-03-10T22:15:21.112Z"
   },
   {
    "duration": 53,
    "start_time": "2022-03-10T22:17:27.857Z"
   },
   {
    "duration": 61,
    "start_time": "2022-03-10T22:18:36.792Z"
   },
   {
    "duration": 62,
    "start_time": "2022-03-10T22:26:05.090Z"
   },
   {
    "duration": 69,
    "start_time": "2022-03-10T22:29:29.222Z"
   },
   {
    "duration": 74,
    "start_time": "2022-03-10T22:34:35.912Z"
   },
   {
    "duration": 70,
    "start_time": "2022-03-10T22:34:55.643Z"
   },
   {
    "duration": 1049,
    "start_time": "2022-03-13T09:30:32.697Z"
   },
   {
    "duration": 6,
    "start_time": "2022-03-13T09:30:33.838Z"
   },
   {
    "duration": 11,
    "start_time": "2022-03-13T09:30:34.318Z"
   },
   {
    "duration": 22,
    "start_time": "2022-03-13T09:30:34.688Z"
   },
   {
    "duration": 65,
    "start_time": "2022-03-13T09:30:35.006Z"
   },
   {
    "duration": 55,
    "start_time": "2022-03-13T09:30:35.443Z"
   },
   {
    "duration": 3,
    "start_time": "2022-03-13T15:12:02.240Z"
   },
   {
    "duration": 7,
    "start_time": "2022-03-13T15:12:30.620Z"
   },
   {
    "duration": 50,
    "start_time": "2022-03-13T15:15:50.664Z"
   },
   {
    "duration": 50,
    "start_time": "2022-03-13T15:18:35.948Z"
   },
   {
    "duration": 49,
    "start_time": "2022-03-13T15:21:32.793Z"
   },
   {
    "duration": 2,
    "start_time": "2022-03-13T15:24:36.987Z"
   },
   {
    "duration": 224,
    "start_time": "2022-03-13T15:27:30.183Z"
   },
   {
    "duration": 489,
    "start_time": "2022-03-13T15:28:22.892Z"
   },
   {
    "duration": 146,
    "start_time": "2022-03-13T15:28:31.655Z"
   },
   {
    "duration": 50,
    "start_time": "2022-03-13T15:33:57.073Z"
   },
   {
    "duration": 46,
    "start_time": "2022-03-13T15:34:11.874Z"
   },
   {
    "duration": 70,
    "start_time": "2022-03-13T15:45:37.412Z"
   },
   {
    "duration": 58,
    "start_time": "2022-03-13T15:48:49.389Z"
   },
   {
    "duration": 56,
    "start_time": "2022-03-13T15:52:35.373Z"
   },
   {
    "duration": 64,
    "start_time": "2022-03-13T15:54:06.877Z"
   },
   {
    "duration": 2,
    "start_time": "2022-03-13T15:56:29.702Z"
   },
   {
    "duration": 2,
    "start_time": "2022-03-13T15:57:16.637Z"
   },
   {
    "duration": 2,
    "start_time": "2022-03-13T15:57:51.896Z"
   },
   {
    "duration": 311,
    "start_time": "2022-03-13T16:01:17.793Z"
   },
   {
    "duration": 131,
    "start_time": "2022-03-13T16:01:45.615Z"
   },
   {
    "duration": 135,
    "start_time": "2022-03-13T16:01:50.011Z"
   },
   {
    "duration": 92,
    "start_time": "2022-03-13T16:01:59.863Z"
   },
   {
    "duration": 50,
    "start_time": "2022-03-13T16:02:03.394Z"
   },
   {
    "duration": 168,
    "start_time": "2022-03-13T16:02:06.671Z"
   },
   {
    "duration": 1288,
    "start_time": "2022-03-13T16:02:10.186Z"
   },
   {
    "duration": 16350,
    "start_time": "2022-03-13T16:02:14.689Z"
   },
   {
    "duration": 173,
    "start_time": "2022-03-13T16:07:37.266Z"
   },
   {
    "duration": 293,
    "start_time": "2022-03-13T16:08:58.104Z"
   },
   {
    "duration": 107,
    "start_time": "2022-03-13T16:09:07.054Z"
   },
   {
    "duration": 28,
    "start_time": "2022-03-13T16:09:38.319Z"
   },
   {
    "duration": 31,
    "start_time": "2022-03-13T16:09:42.832Z"
   },
   {
    "duration": 49,
    "start_time": "2022-03-13T16:09:45.990Z"
   },
   {
    "duration": 84,
    "start_time": "2022-03-13T16:09:48.960Z"
   },
   {
    "duration": 104,
    "start_time": "2022-03-13T16:09:52.333Z"
   },
   {
    "duration": 112,
    "start_time": "2022-03-13T16:09:55.228Z"
   },
   {
    "duration": 113,
    "start_time": "2022-03-13T16:09:58.624Z"
   },
   {
    "duration": 30,
    "start_time": "2022-03-13T16:10:02.927Z"
   },
   {
    "duration": 97,
    "start_time": "2022-03-13T16:10:05.941Z"
   },
   {
    "duration": 49,
    "start_time": "2022-03-13T16:10:09.421Z"
   },
   {
    "duration": 39,
    "start_time": "2022-03-13T16:10:12.296Z"
   },
   {
    "duration": 32,
    "start_time": "2022-03-13T16:10:17.291Z"
   },
   {
    "duration": 33,
    "start_time": "2022-03-13T16:10:20.403Z"
   },
   {
    "duration": 34,
    "start_time": "2022-03-13T16:10:23.310Z"
   },
   {
    "duration": 59,
    "start_time": "2022-03-13T16:10:27.181Z"
   },
   {
    "duration": 102,
    "start_time": "2022-03-13T16:10:33.040Z"
   },
   {
    "duration": 30,
    "start_time": "2022-03-13T16:10:41.859Z"
   },
   {
    "duration": 81,
    "start_time": "2022-03-13T16:10:47.158Z"
   },
   {
    "duration": 33,
    "start_time": "2022-03-13T16:10:52.000Z"
   },
   {
    "duration": 34,
    "start_time": "2022-03-13T16:10:55.333Z"
   },
   {
    "duration": 231,
    "start_time": "2022-03-13T16:11:28.389Z"
   },
   {
    "duration": 32,
    "start_time": "2022-03-13T16:11:34.276Z"
   },
   {
    "duration": 5,
    "start_time": "2022-03-13T16:11:35.692Z"
   },
   {
    "duration": 10,
    "start_time": "2022-03-13T16:11:36.958Z"
   },
   {
    "duration": 17,
    "start_time": "2022-03-13T16:11:38.365Z"
   },
   {
    "duration": 58,
    "start_time": "2022-03-13T16:11:53.176Z"
   },
   {
    "duration": 166,
    "start_time": "2022-03-13T16:11:57.227Z"
   },
   {
    "duration": 44,
    "start_time": "2022-03-13T16:11:59.621Z"
   },
   {
    "duration": 53,
    "start_time": "2022-03-13T16:12:03.596Z"
   },
   {
    "duration": 91,
    "start_time": "2022-03-13T16:21:09.552Z"
   },
   {
    "duration": 33,
    "start_time": "2022-03-13T16:21:14.352Z"
   },
   {
    "duration": 28,
    "start_time": "2022-03-13T16:21:23.834Z"
   },
   {
    "duration": 5,
    "start_time": "2022-03-13T16:21:25.025Z"
   },
   {
    "duration": 11,
    "start_time": "2022-03-13T16:21:25.276Z"
   },
   {
    "duration": 16,
    "start_time": "2022-03-13T16:21:25.552Z"
   },
   {
    "duration": 53,
    "start_time": "2022-03-13T16:21:25.802Z"
   },
   {
    "duration": 138,
    "start_time": "2022-03-13T16:21:26.770Z"
   },
   {
    "duration": 45,
    "start_time": "2022-03-13T16:21:29.510Z"
   },
   {
    "duration": 45,
    "start_time": "2022-03-13T16:21:35.293Z"
   },
   {
    "duration": 51,
    "start_time": "2022-03-13T16:21:39.914Z"
   },
   {
    "duration": 100,
    "start_time": "2022-03-13T16:21:43.837Z"
   },
   {
    "duration": 43,
    "start_time": "2022-03-13T16:21:46.337Z"
   },
   {
    "duration": 26,
    "start_time": "2022-03-13T16:21:51.357Z"
   },
   {
    "duration": 4,
    "start_time": "2022-03-13T16:21:53.459Z"
   },
   {
    "duration": 12,
    "start_time": "2022-03-13T16:21:54.432Z"
   },
   {
    "duration": 18,
    "start_time": "2022-03-13T16:21:55.593Z"
   },
   {
    "duration": 57,
    "start_time": "2022-03-13T16:21:58.451Z"
   },
   {
    "duration": 286,
    "start_time": "2022-03-13T16:22:01.148Z"
   },
   {
    "duration": 47,
    "start_time": "2022-03-13T16:22:03.809Z"
   },
   {
    "duration": 62,
    "start_time": "2022-03-13T16:22:09.784Z"
   },
   {
    "duration": 55,
    "start_time": "2022-03-13T16:22:17.418Z"
   },
   {
    "duration": 47,
    "start_time": "2022-03-13T16:22:19.516Z"
   },
   {
    "duration": 31,
    "start_time": "2022-03-13T16:22:31.461Z"
   },
   {
    "duration": 1101,
    "start_time": "2022-03-13T16:22:38.916Z"
   },
   {
    "duration": 5,
    "start_time": "2022-03-13T16:22:41.874Z"
   },
   {
    "duration": 11,
    "start_time": "2022-03-13T16:22:43.506Z"
   },
   {
    "duration": 22,
    "start_time": "2022-03-13T16:22:44.935Z"
   },
   {
    "duration": 71,
    "start_time": "2022-03-13T16:22:46.114Z"
   },
   {
    "duration": 208,
    "start_time": "2022-03-13T16:22:48.335Z"
   },
   {
    "duration": 47,
    "start_time": "2022-03-13T16:22:50.441Z"
   },
   {
    "duration": 86,
    "start_time": "2022-03-13T16:22:58.154Z"
   },
   {
    "duration": 49,
    "start_time": "2022-03-13T16:23:01.980Z"
   },
   {
    "duration": 58,
    "start_time": "2022-03-13T16:23:04.144Z"
   },
   {
    "duration": 1051,
    "start_time": "2022-03-13T16:23:28.356Z"
   },
   {
    "duration": 5,
    "start_time": "2022-03-13T16:23:30.514Z"
   },
   {
    "duration": 11,
    "start_time": "2022-03-13T16:23:31.530Z"
   },
   {
    "duration": 23,
    "start_time": "2022-03-13T16:23:33.124Z"
   },
   {
    "duration": 60,
    "start_time": "2022-03-13T16:23:35.274Z"
   },
   {
    "duration": 213,
    "start_time": "2022-03-13T16:23:37.966Z"
   },
   {
    "duration": 45,
    "start_time": "2022-03-13T16:23:40.574Z"
   },
   {
    "duration": 117,
    "start_time": "2022-03-13T16:23:52.420Z"
   },
   {
    "duration": 95,
    "start_time": "2022-03-13T16:23:58.644Z"
   },
   {
    "duration": 60,
    "start_time": "2022-03-13T16:24:03.396Z"
   },
   {
    "duration": 70,
    "start_time": "2022-03-13T16:24:06.711Z"
   },
   {
    "duration": 82,
    "start_time": "2022-03-13T16:24:11.358Z"
   },
   {
    "duration": 102,
    "start_time": "2022-03-13T16:24:14.837Z"
   },
   {
    "duration": 166,
    "start_time": "2022-03-13T16:24:17.973Z"
   },
   {
    "duration": 138,
    "start_time": "2022-03-13T16:24:22.003Z"
   },
   {
    "duration": 410,
    "start_time": "2022-03-13T16:24:24.843Z"
   },
   {
    "duration": 126,
    "start_time": "2022-03-13T16:24:28.413Z"
   },
   {
    "duration": 387,
    "start_time": "2022-03-13T16:24:35.421Z"
   },
   {
    "duration": 63,
    "start_time": "2022-03-13T16:24:39.600Z"
   },
   {
    "duration": 49,
    "start_time": "2022-03-13T16:24:47.953Z"
   },
   {
    "duration": 92,
    "start_time": "2022-03-13T16:24:51.952Z"
   },
   {
    "duration": 107,
    "start_time": "2022-03-13T16:24:54.731Z"
   },
   {
    "duration": 91,
    "start_time": "2022-03-13T16:24:58.647Z"
   },
   {
    "duration": 104,
    "start_time": "2022-03-13T16:25:01.935Z"
   },
   {
    "duration": 121,
    "start_time": "2022-03-13T16:25:06.722Z"
   },
   {
    "duration": 101,
    "start_time": "2022-03-13T16:25:11.438Z"
   },
   {
    "duration": 165,
    "start_time": "2022-03-13T16:25:14.473Z"
   },
   {
    "duration": 64,
    "start_time": "2022-03-13T16:25:17.016Z"
   },
   {
    "duration": 31,
    "start_time": "2022-03-13T16:25:22.306Z"
   },
   {
    "duration": 32,
    "start_time": "2022-03-13T16:25:25.803Z"
   },
   {
    "duration": 32,
    "start_time": "2022-03-13T16:25:29.217Z"
   },
   {
    "duration": 142,
    "start_time": "2022-03-13T16:25:34.483Z"
   },
   {
    "duration": 46,
    "start_time": "2022-03-13T18:25:22.803Z"
   },
   {
    "duration": 1094,
    "start_time": "2022-03-13T18:32:41.320Z"
   },
   {
    "duration": 29,
    "start_time": "2022-03-13T18:32:46.703Z"
   },
   {
    "duration": 28,
    "start_time": "2022-03-13T18:32:53.887Z"
   },
   {
    "duration": 5,
    "start_time": "2022-03-13T18:32:56.527Z"
   },
   {
    "duration": 11,
    "start_time": "2022-03-13T18:32:59.315Z"
   },
   {
    "duration": 19,
    "start_time": "2022-03-13T18:33:04.783Z"
   },
   {
    "duration": 66,
    "start_time": "2022-03-13T18:33:16.214Z"
   },
   {
    "duration": 221,
    "start_time": "2022-03-13T18:33:19.303Z"
   },
   {
    "duration": 141,
    "start_time": "2022-03-13T18:34:22.205Z"
   },
   {
    "duration": 45,
    "start_time": "2022-03-13T18:34:29.331Z"
   },
   {
    "duration": 91,
    "start_time": "2022-03-13T18:34:35.949Z"
   },
   {
    "duration": 67,
    "start_time": "2022-03-13T18:34:51.490Z"
   },
   {
    "duration": 144,
    "start_time": "2022-03-13T18:35:11.100Z"
   },
   {
    "duration": 122,
    "start_time": "2022-03-13T18:36:06.515Z"
   },
   {
    "duration": 63,
    "start_time": "2022-03-13T18:36:11.335Z"
   },
   {
    "duration": 139,
    "start_time": "2022-03-13T18:36:13.121Z"
   },
   {
    "duration": 100,
    "start_time": "2022-03-13T18:36:17.538Z"
   },
   {
    "duration": 35,
    "start_time": "2022-03-13T18:36:22.273Z"
   },
   {
    "duration": 147,
    "start_time": "2022-03-13T18:36:26.584Z"
   },
   {
    "duration": 9,
    "start_time": "2022-03-13T18:36:47.429Z"
   },
   {
    "duration": 303,
    "start_time": "2022-03-13T18:50:33.896Z"
   },
   {
    "duration": 33,
    "start_time": "2022-03-13T18:50:40.153Z"
   },
   {
    "duration": 4,
    "start_time": "2022-03-13T18:50:43.654Z"
   },
   {
    "duration": 11,
    "start_time": "2022-03-13T18:50:45.943Z"
   },
   {
    "duration": 17,
    "start_time": "2022-03-13T18:50:49.205Z"
   },
   {
    "duration": 60,
    "start_time": "2022-03-13T18:50:56.677Z"
   },
   {
    "duration": 61,
    "start_time": "2022-03-13T18:52:04.935Z"
   },
   {
    "duration": 58,
    "start_time": "2022-03-13T18:52:08.720Z"
   },
   {
    "duration": 55,
    "start_time": "2022-03-13T18:52:41.209Z"
   },
   {
    "duration": 59,
    "start_time": "2022-03-13T18:52:52.535Z"
   },
   {
    "duration": 142,
    "start_time": "2022-03-13T18:52:55.821Z"
   },
   {
    "duration": 48,
    "start_time": "2022-03-13T18:53:01.808Z"
   },
   {
    "duration": 45,
    "start_time": "2022-03-13T18:53:05.413Z"
   },
   {
    "duration": 29,
    "start_time": "2022-03-13T18:53:08.533Z"
   },
   {
    "duration": 44,
    "start_time": "2022-03-13T18:53:14.854Z"
   },
   {
    "duration": 213,
    "start_time": "2022-03-13T18:53:17.117Z"
   },
   {
    "duration": 25,
    "start_time": "2022-03-13T18:53:21.871Z"
   },
   {
    "duration": 85,
    "start_time": "2022-03-13T18:53:29.057Z"
   },
   {
    "duration": 62,
    "start_time": "2022-03-13T18:53:32.106Z"
   },
   {
    "duration": 35,
    "start_time": "2022-03-13T18:53:34.809Z"
   },
   {
    "duration": 35,
    "start_time": "2022-03-13T18:53:38.060Z"
   },
   {
    "duration": 83,
    "start_time": "2022-03-13T18:53:40.655Z"
   },
   {
    "duration": 45,
    "start_time": "2022-03-13T18:53:44.016Z"
   },
   {
    "duration": 49,
    "start_time": "2022-03-13T18:53:47.311Z"
   },
   {
    "duration": 47,
    "start_time": "2022-03-13T18:53:50.298Z"
   },
   {
    "duration": 136,
    "start_time": "2022-03-13T18:53:56.338Z"
   },
   {
    "duration": 27,
    "start_time": "2022-03-13T18:54:00.310Z"
   },
   {
    "duration": 26,
    "start_time": "2022-03-13T18:54:03.976Z"
   },
   {
    "duration": 23,
    "start_time": "2022-03-13T18:54:06.585Z"
   },
   {
    "duration": 26,
    "start_time": "2022-03-13T18:54:09.246Z"
   },
   {
    "duration": 27,
    "start_time": "2022-03-13T18:54:12.011Z"
   },
   {
    "duration": 28,
    "start_time": "2022-03-13T18:54:15.250Z"
   },
   {
    "duration": 27,
    "start_time": "2022-03-13T18:54:19.751Z"
   },
   {
    "duration": 71,
    "start_time": "2022-03-13T18:54:25.066Z"
   },
   {
    "duration": 31,
    "start_time": "2022-03-13T18:54:30.106Z"
   },
   {
    "duration": 24,
    "start_time": "2022-03-13T18:54:33.511Z"
   },
   {
    "duration": 8,
    "start_time": "2022-03-13T18:54:40.351Z"
   },
   {
    "duration": 47,
    "start_time": "2022-03-13T18:54:50.082Z"
   },
   {
    "duration": 45,
    "start_time": "2022-03-13T18:54:52.833Z"
   },
   {
    "duration": 60,
    "start_time": "2022-03-13T18:55:05.358Z"
   },
   {
    "duration": 50,
    "start_time": "2022-03-13T18:55:12.597Z"
   },
   {
    "duration": 41,
    "start_time": "2022-03-13T19:01:30.307Z"
   },
   {
    "duration": 141,
    "start_time": "2022-03-13T19:01:44.863Z"
   },
   {
    "duration": 49,
    "start_time": "2022-03-13T19:02:00.265Z"
   },
   {
    "duration": 44,
    "start_time": "2022-03-13T19:02:01.918Z"
   },
   {
    "duration": 29,
    "start_time": "2022-03-13T19:02:07.294Z"
   },
   {
    "duration": 43,
    "start_time": "2022-03-13T19:03:57.403Z"
   },
   {
    "duration": 173,
    "start_time": "2022-03-13T19:06:09.909Z"
   },
   {
    "duration": 3655,
    "start_time": "2022-03-13T19:06:29.193Z"
   },
   {
    "duration": 277,
    "start_time": "2022-03-13T19:08:02.376Z"
   },
   {
    "duration": 3964,
    "start_time": "2022-03-13T19:08:28.859Z"
   },
   {
    "duration": 3704,
    "start_time": "2022-03-13T19:09:20.245Z"
   },
   {
    "duration": 3661,
    "start_time": "2022-03-13T19:10:03.533Z"
   },
   {
    "duration": 3813,
    "start_time": "2022-03-13T19:10:16.789Z"
   },
   {
    "duration": 3772,
    "start_time": "2022-03-13T19:10:49.068Z"
   },
   {
    "duration": 141,
    "start_time": "2022-03-13T19:12:15.888Z"
   },
   {
    "duration": 110,
    "start_time": "2022-03-13T19:13:32.127Z"
   },
   {
    "duration": 111,
    "start_time": "2022-03-13T19:15:06.731Z"
   },
   {
    "duration": 1022,
    "start_time": "2022-03-13T19:16:37.885Z"
   },
   {
    "duration": 4,
    "start_time": "2022-03-13T19:16:39.994Z"
   },
   {
    "duration": 11,
    "start_time": "2022-03-13T19:16:41.198Z"
   },
   {
    "duration": 23,
    "start_time": "2022-03-13T19:16:42.433Z"
   },
   {
    "duration": 16,
    "start_time": "2022-03-13T19:16:45.641Z"
   },
   {
    "duration": 42,
    "start_time": "2022-03-13T19:16:48.368Z"
   },
   {
    "duration": 38,
    "start_time": "2022-03-13T19:16:57.331Z"
   },
   {
    "duration": 206,
    "start_time": "2022-03-13T19:17:00.766Z"
   },
   {
    "duration": 48,
    "start_time": "2022-03-13T19:17:09.627Z"
   },
   {
    "duration": 44,
    "start_time": "2022-03-13T19:17:11.413Z"
   },
   {
    "duration": 44,
    "start_time": "2022-03-13T19:17:14.205Z"
   },
   {
    "duration": 61,
    "start_time": "2022-03-13T19:17:17.776Z"
   },
   {
    "duration": 26,
    "start_time": "2022-03-13T19:17:22.454Z"
   },
   {
    "duration": 46,
    "start_time": "2022-03-13T19:17:39.300Z"
   },
   {
    "duration": 59,
    "start_time": "2022-03-13T19:19:47.480Z"
   },
   {
    "duration": 136,
    "start_time": "2022-03-13T19:19:50.022Z"
   },
   {
    "duration": 26,
    "start_time": "2022-03-13T19:21:47.858Z"
   },
   {
    "duration": 1041,
    "start_time": "2022-03-13T19:21:56.978Z"
   },
   {
    "duration": 6,
    "start_time": "2022-03-13T19:22:04.524Z"
   },
   {
    "duration": 12,
    "start_time": "2022-03-13T19:22:07.953Z"
   },
   {
    "duration": 23,
    "start_time": "2022-03-13T19:22:12.399Z"
   },
   {
    "duration": 16,
    "start_time": "2022-03-13T19:22:15.737Z"
   },
   {
    "duration": 44,
    "start_time": "2022-03-13T19:22:48.283Z"
   },
   {
    "duration": 206,
    "start_time": "2022-03-13T19:23:06.778Z"
   },
   {
    "duration": 46,
    "start_time": "2022-03-13T19:23:17.061Z"
   },
   {
    "duration": 46,
    "start_time": "2022-03-13T19:23:21.785Z"
   },
   {
    "duration": 25,
    "start_time": "2022-03-13T19:23:25.152Z"
   },
   {
    "duration": 44,
    "start_time": "2022-03-13T19:23:41.419Z"
   },
   {
    "duration": 69,
    "start_time": "2022-03-13T19:27:30.881Z"
   },
   {
    "duration": 46,
    "start_time": "2022-03-13T19:27:51.937Z"
   },
   {
    "duration": 46,
    "start_time": "2022-03-13T19:28:30.666Z"
   },
   {
    "duration": 47,
    "start_time": "2022-03-13T19:29:07.910Z"
   },
   {
    "duration": 47,
    "start_time": "2022-03-13T19:31:07.707Z"
   },
   {
    "duration": 109,
    "start_time": "2022-03-13T19:31:10.330Z"
   },
   {
    "duration": 27,
    "start_time": "2022-03-13T19:32:04.352Z"
   },
   {
    "duration": 50,
    "start_time": "2022-03-13T19:32:06.899Z"
   },
   {
    "duration": 52,
    "start_time": "2022-03-13T19:32:12.916Z"
   },
   {
    "duration": 111,
    "start_time": "2022-03-13T19:32:17.734Z"
   },
   {
    "duration": 91,
    "start_time": "2022-03-13T19:35:52.950Z"
   },
   {
    "duration": 158,
    "start_time": "2022-03-13T19:36:03.681Z"
   },
   {
    "duration": 28,
    "start_time": "2022-03-13T19:36:11.364Z"
   },
   {
    "duration": 5,
    "start_time": "2022-03-13T19:36:12.054Z"
   },
   {
    "duration": 11,
    "start_time": "2022-03-13T19:36:12.356Z"
   },
   {
    "duration": 17,
    "start_time": "2022-03-13T19:36:12.676Z"
   },
   {
    "duration": 14,
    "start_time": "2022-03-13T19:36:13.277Z"
   },
   {
    "duration": 38,
    "start_time": "2022-03-13T19:36:14.222Z"
   },
   {
    "duration": 135,
    "start_time": "2022-03-13T19:36:16.604Z"
   },
   {
    "duration": 46,
    "start_time": "2022-03-13T19:36:18.613Z"
   },
   {
    "duration": 27,
    "start_time": "2022-03-13T19:36:21.515Z"
   },
   {
    "duration": 112,
    "start_time": "2022-03-13T19:36:25.628Z"
   },
   {
    "duration": 35,
    "start_time": "2022-03-13T19:39:32.528Z"
   },
   {
    "duration": 43,
    "start_time": "2022-03-13T19:39:36.171Z"
   },
   {
    "duration": 43,
    "start_time": "2022-03-13T19:39:40.083Z"
   },
   {
    "duration": 70,
    "start_time": "2022-03-13T19:39:43.270Z"
   },
   {
    "duration": 40,
    "start_time": "2022-03-13T19:41:20.905Z"
   },
   {
    "duration": 38,
    "start_time": "2022-03-13T19:41:24.414Z"
   },
   {
    "duration": 23,
    "start_time": "2022-03-13T19:41:52.850Z"
   },
   {
    "duration": 25,
    "start_time": "2022-03-13T19:41:56.630Z"
   },
   {
    "duration": 30,
    "start_time": "2022-03-13T19:41:59.499Z"
   },
   {
    "duration": 27,
    "start_time": "2022-03-13T19:42:11.784Z"
   },
   {
    "duration": 27,
    "start_time": "2022-03-13T19:42:15.411Z"
   },
   {
    "duration": 44,
    "start_time": "2022-03-13T19:42:48.754Z"
   },
   {
    "duration": 26,
    "start_time": "2022-03-13T19:42:59.054Z"
   },
   {
    "duration": 53,
    "start_time": "2022-03-13T19:43:05.786Z"
   },
   {
    "duration": 35,
    "start_time": "2022-03-13T19:43:11.150Z"
   },
   {
    "duration": 420,
    "start_time": "2022-03-13T19:48:29.714Z"
   },
   {
    "duration": 248,
    "start_time": "2022-03-13T19:48:41.923Z"
   },
   {
    "duration": 285,
    "start_time": "2022-03-13T19:48:56.860Z"
   },
   {
    "duration": 260,
    "start_time": "2022-03-13T19:52:33.042Z"
   },
   {
    "duration": 362,
    "start_time": "2022-03-13T19:52:48.786Z"
   },
   {
    "duration": 7,
    "start_time": "2022-03-13T19:54:13.696Z"
   },
   {
    "duration": 167,
    "start_time": "2022-03-13T19:55:36.400Z"
   },
   {
    "duration": 172,
    "start_time": "2022-03-13T19:56:21.118Z"
   },
   {
    "duration": 177,
    "start_time": "2022-03-13T19:58:07.019Z"
   },
   {
    "duration": 172,
    "start_time": "2022-03-13T19:58:39.314Z"
   },
   {
    "duration": 253,
    "start_time": "2022-03-13T19:58:57.171Z"
   },
   {
    "duration": 325,
    "start_time": "2022-03-13T19:59:31.413Z"
   },
   {
    "duration": 412,
    "start_time": "2022-03-13T19:59:55.537Z"
   },
   {
    "duration": 310,
    "start_time": "2022-03-13T20:00:09.986Z"
   },
   {
    "duration": 58,
    "start_time": "2022-03-13T20:00:20.181Z"
   },
   {
    "duration": 79,
    "start_time": "2022-03-13T20:00:23.359Z"
   },
   {
    "duration": 119,
    "start_time": "2022-03-13T20:00:33.422Z"
   },
   {
    "duration": 56,
    "start_time": "2022-03-13T20:00:39.092Z"
   },
   {
    "duration": 82,
    "start_time": "2022-03-13T20:00:42.461Z"
   },
   {
    "duration": 40185,
    "start_time": "2022-03-13T20:01:51.495Z"
   },
   {
    "duration": 66,
    "start_time": "2022-03-13T20:06:16.216Z"
   },
   {
    "duration": 52,
    "start_time": "2022-03-13T20:06:28.735Z"
   },
   {
    "duration": 658,
    "start_time": "2022-03-13T20:06:36.499Z"
   },
   {
    "duration": 649,
    "start_time": "2022-03-13T20:07:04.777Z"
   },
   {
    "duration": 680,
    "start_time": "2022-03-13T20:07:11.337Z"
   },
   {
    "duration": 223,
    "start_time": "2022-03-13T20:07:27.526Z"
   },
   {
    "duration": 349,
    "start_time": "2022-03-13T20:07:37.682Z"
   },
   {
    "duration": 514,
    "start_time": "2022-03-13T20:07:42.146Z"
   },
   {
    "duration": 644,
    "start_time": "2022-03-13T20:07:47.033Z"
   },
   {
    "duration": 669,
    "start_time": "2022-03-13T20:07:51.958Z"
   },
   {
    "duration": 672,
    "start_time": "2022-03-13T20:07:56.452Z"
   },
   {
    "duration": 700,
    "start_time": "2022-03-13T20:08:01.368Z"
   },
   {
    "duration": 684,
    "start_time": "2022-03-13T20:08:07.455Z"
   },
   {
    "duration": 672,
    "start_time": "2022-03-13T20:08:13.068Z"
   },
   {
    "duration": 676,
    "start_time": "2022-03-13T20:08:17.114Z"
   },
   {
    "duration": 62429,
    "start_time": "2022-03-13T20:09:25.802Z"
   },
   {
    "duration": 662,
    "start_time": "2022-03-13T20:11:23.621Z"
   },
   {
    "duration": 73,
    "start_time": "2022-03-13T20:11:41.867Z"
   },
   {
    "duration": 71,
    "start_time": "2022-03-13T20:11:44.970Z"
   },
   {
    "duration": 84,
    "start_time": "2022-03-13T20:11:47.456Z"
   },
   {
    "duration": 86,
    "start_time": "2022-03-13T20:11:50.154Z"
   },
   {
    "duration": 700,
    "start_time": "2022-03-13T20:12:31.884Z"
   },
   {
    "duration": 180,
    "start_time": "2022-03-13T20:12:39.443Z"
   },
   {
    "duration": 63,
    "start_time": "2022-03-13T20:12:45.057Z"
   },
   {
    "duration": 730,
    "start_time": "2022-03-13T20:12:49.237Z"
   },
   {
    "duration": 817,
    "start_time": "2022-03-13T20:13:16.241Z"
   },
   {
    "duration": 882,
    "start_time": "2022-03-13T20:14:25.419Z"
   },
   {
    "duration": 855,
    "start_time": "2022-03-13T20:14:45.892Z"
   },
   {
    "duration": 214,
    "start_time": "2022-03-13T20:14:58.727Z"
   },
   {
    "duration": 220,
    "start_time": "2022-03-13T20:15:05.391Z"
   },
   {
    "duration": 178,
    "start_time": "2022-03-13T20:15:14.383Z"
   },
   {
    "duration": 174,
    "start_time": "2022-03-13T20:18:34.042Z"
   },
   {
    "duration": 52,
    "start_time": "2022-03-13T20:19:57.815Z"
   },
   {
    "duration": 723,
    "start_time": "2022-03-13T20:23:00.380Z"
   },
   {
    "duration": 684,
    "start_time": "2022-03-13T20:23:13.935Z"
   },
   {
    "duration": 63077,
    "start_time": "2022-03-13T20:23:33.816Z"
   },
   {
    "duration": 159,
    "start_time": "2022-03-13T20:24:36.895Z"
   },
   {
    "duration": 4,
    "start_time": "2022-03-13T20:25:15.230Z"
   },
   {
    "duration": 44,
    "start_time": "2022-03-13T20:29:00.703Z"
   },
   {
    "duration": 65,
    "start_time": "2022-03-13T20:30:35.381Z"
   },
   {
    "duration": 972412,
    "start_time": "2022-03-13T20:30:52.386Z"
   },
   {
    "duration": 392,
    "start_time": "2022-03-13T20:47:41.200Z"
   },
   {
    "duration": 859,
    "start_time": "2022-03-13T20:47:44.827Z"
   },
   {
    "duration": 415,
    "start_time": "2022-03-13T20:50:44.942Z"
   },
   {
    "duration": 392,
    "start_time": "2022-03-13T20:50:48.902Z"
   },
   {
    "duration": 395,
    "start_time": "2022-03-13T20:50:52.728Z"
   },
   {
    "duration": 406,
    "start_time": "2022-03-13T20:50:57.301Z"
   },
   {
    "duration": 169,
    "start_time": "2022-03-13T20:51:42.311Z"
   },
   {
    "duration": 373,
    "start_time": "2022-03-13T20:51:54.606Z"
   },
   {
    "duration": 57,
    "start_time": "2022-03-13T20:52:03.810Z"
   },
   {
    "duration": 393,
    "start_time": "2022-03-13T20:52:08.572Z"
   },
   {
    "duration": 123,
    "start_time": "2022-03-13T20:52:14.318Z"
   },
   {
    "duration": 407,
    "start_time": "2022-03-13T20:52:29.848Z"
   },
   {
    "duration": 133,
    "start_time": "2022-03-13T20:52:38.106Z"
   },
   {
    "duration": 567,
    "start_time": "2022-03-13T20:53:20.173Z"
   },
   {
    "duration": 1108,
    "start_time": "2022-03-13T20:53:48.869Z"
   },
   {
    "duration": 224,
    "start_time": "2022-03-13T20:54:23.177Z"
   },
   {
    "duration": 182,
    "start_time": "2022-03-13T20:54:27.489Z"
   },
   {
    "duration": 844,
    "start_time": "2022-03-13T20:55:22.529Z"
   },
   {
    "duration": 564,
    "start_time": "2022-03-13T20:57:51.614Z"
   },
   {
    "duration": 197,
    "start_time": "2022-03-13T21:01:40.946Z"
   },
   {
    "duration": 181,
    "start_time": "2022-03-13T21:04:28.038Z"
   },
   {
    "duration": 46,
    "start_time": "2022-03-13T21:04:39.231Z"
   },
   {
    "duration": 99,
    "start_time": "2022-03-14T14:45:38.683Z"
   },
   {
    "duration": 331,
    "start_time": "2022-03-14T16:20:00.343Z"
   },
   {
    "duration": 1259,
    "start_time": "2022-03-14T16:20:08.438Z"
   },
   {
    "duration": 5,
    "start_time": "2022-03-14T16:20:09.699Z"
   },
   {
    "duration": 17,
    "start_time": "2022-03-14T16:20:09.706Z"
   },
   {
    "duration": 23,
    "start_time": "2022-03-14T16:20:09.725Z"
   },
   {
    "duration": 19,
    "start_time": "2022-03-14T16:20:10.718Z"
   },
   {
    "duration": 47,
    "start_time": "2022-03-14T16:20:13.609Z"
   },
   {
    "duration": 40,
    "start_time": "2022-03-14T16:20:21.545Z"
   },
   {
    "duration": 158,
    "start_time": "2022-03-14T16:20:46.208Z"
   },
   {
    "duration": 50,
    "start_time": "2022-03-14T16:20:51.220Z"
   },
   {
    "duration": 43,
    "start_time": "2022-03-14T16:20:56.598Z"
   },
   {
    "duration": 68,
    "start_time": "2022-03-14T16:21:27.237Z"
   },
   {
    "duration": 65,
    "start_time": "2022-03-14T16:21:32.873Z"
   },
   {
    "duration": 66,
    "start_time": "2022-03-14T16:22:00.450Z"
   },
   {
    "duration": 61,
    "start_time": "2022-03-14T16:22:09.705Z"
   },
   {
    "duration": 51,
    "start_time": "2022-03-14T16:22:19.721Z"
   },
   {
    "duration": 45,
    "start_time": "2022-03-14T16:22:23.164Z"
   },
   {
    "duration": 69,
    "start_time": "2022-03-14T16:22:37.355Z"
   },
   {
    "duration": 80,
    "start_time": "2022-03-14T16:22:41.824Z"
   },
   {
    "duration": 33,
    "start_time": "2022-03-14T16:22:49.256Z"
   },
   {
    "duration": 1297,
    "start_time": "2022-03-14T16:49:25.782Z"
   },
   {
    "duration": 5,
    "start_time": "2022-03-14T16:49:27.081Z"
   },
   {
    "duration": 21,
    "start_time": "2022-03-14T16:49:27.089Z"
   },
   {
    "duration": 22,
    "start_time": "2022-03-14T16:49:27.469Z"
   },
   {
    "duration": 18,
    "start_time": "2022-03-14T16:49:27.761Z"
   },
   {
    "duration": 65,
    "start_time": "2022-03-14T16:49:28.430Z"
   },
   {
    "duration": 85,
    "start_time": "2022-03-14T16:49:29.268Z"
   },
   {
    "duration": 87,
    "start_time": "2022-03-14T16:49:33.068Z"
   },
   {
    "duration": 128,
    "start_time": "2022-03-15T08:26:47.002Z"
   },
   {
    "duration": 681,
    "start_time": "2022-03-15T08:33:06.881Z"
   },
   {
    "duration": -9,
    "start_time": "2022-03-15T08:33:07.574Z"
   },
   {
    "duration": 303,
    "start_time": "2022-03-15T08:33:07.731Z"
   },
   {
    "duration": 19,
    "start_time": "2022-03-15T08:33:08.018Z"
   },
   {
    "duration": 246,
    "start_time": "2022-03-15T08:33:08.308Z"
   },
   {
    "duration": 270,
    "start_time": "2022-03-15T08:33:08.597Z"
   },
   {
    "duration": 1287,
    "start_time": "2022-03-15T08:33:39.522Z"
   },
   {
    "duration": 5,
    "start_time": "2022-03-15T08:33:43.982Z"
   },
   {
    "duration": 13,
    "start_time": "2022-03-15T08:33:44.299Z"
   },
   {
    "duration": 23,
    "start_time": "2022-03-15T08:33:45.096Z"
   },
   {
    "duration": 18,
    "start_time": "2022-03-15T08:33:46.054Z"
   },
   {
    "duration": 31,
    "start_time": "2022-03-15T08:33:46.608Z"
   },
   {
    "duration": 181,
    "start_time": "2022-03-15T08:33:53.150Z"
   },
   {
    "duration": 62,
    "start_time": "2022-03-15T08:33:55.089Z"
   },
   {
    "duration": 46,
    "start_time": "2022-03-15T08:33:56.892Z"
   },
   {
    "duration": 30,
    "start_time": "2022-03-15T08:34:08.984Z"
   },
   {
    "duration": 81,
    "start_time": "2022-03-15T08:34:12.484Z"
   },
   {
    "duration": 199,
    "start_time": "2022-03-15T08:34:20.633Z"
   },
   {
    "duration": 36,
    "start_time": "2022-03-15T08:34:24.957Z"
   },
   {
    "duration": 1109583,
    "start_time": "2022-03-15T08:34:25.671Z"
   },
   {
    "duration": 674,
    "start_time": "2022-03-15T08:52:55.257Z"
   },
   {
    "duration": 1005,
    "start_time": "2022-03-15T08:52:55.934Z"
   },
   {
    "duration": 258,
    "start_time": "2022-03-15T08:52:56.941Z"
   },
   {
    "duration": 205,
    "start_time": "2022-03-15T08:52:57.201Z"
   },
   {
    "duration": 112,
    "start_time": "2022-03-15T08:52:57.408Z"
   },
   {
    "duration": 10,
    "start_time": "2022-03-15T08:52:57.512Z"
   },
   {
    "duration": 28,
    "start_time": "2022-03-15T08:54:20.756Z"
   },
   {
    "duration": 27,
    "start_time": "2022-03-15T08:54:27.387Z"
   },
   {
    "duration": 335,
    "start_time": "2022-03-15T08:54:55.883Z"
   },
   {
    "duration": 37,
    "start_time": "2022-03-15T08:55:08.465Z"
   },
   {
    "duration": 5,
    "start_time": "2022-03-15T08:55:08.942Z"
   },
   {
    "duration": 17,
    "start_time": "2022-03-15T08:55:09.193Z"
   },
   {
    "duration": 27,
    "start_time": "2022-03-15T08:55:09.546Z"
   },
   {
    "duration": 24,
    "start_time": "2022-03-15T08:55:09.747Z"
   },
   {
    "duration": 40,
    "start_time": "2022-03-15T08:55:13.336Z"
   },
   {
    "duration": 173,
    "start_time": "2022-03-15T08:55:18.000Z"
   },
   {
    "duration": 53,
    "start_time": "2022-03-15T08:55:21.147Z"
   },
   {
    "duration": 30,
    "start_time": "2022-03-15T08:55:24.270Z"
   },
   {
    "duration": 49,
    "start_time": "2022-03-15T08:55:26.995Z"
   },
   {
    "duration": 36,
    "start_time": "2022-03-15T08:55:31.169Z"
   },
   {
    "duration": 647,
    "start_time": "2022-03-15T08:55:37.534Z"
   },
   {
    "duration": 1078,
    "start_time": "2022-03-15T08:55:43.166Z"
   },
   {
    "duration": 196,
    "start_time": "2022-03-15T08:58:26.786Z"
   },
   {
    "duration": 55,
    "start_time": "2022-03-15T08:58:51.979Z"
   },
   {
    "duration": 32,
    "start_time": "2022-03-15T09:08:51.482Z"
   },
   {
    "duration": 63,
    "start_time": "2022-03-15T09:08:55.169Z"
   },
   {
    "duration": 12,
    "start_time": "2022-03-15T09:09:35.905Z"
   },
   {
    "duration": 12,
    "start_time": "2022-03-15T09:09:56.639Z"
   },
   {
    "duration": 52,
    "start_time": "2022-03-25T12:51:21.534Z"
   },
   {
    "duration": 8,
    "start_time": "2022-03-25T13:00:57.295Z"
   }
  ],
  "kernelspec": {
   "display_name": "Python 3 (ipykernel)",
   "language": "python",
   "name": "python3"
  },
  "language_info": {
   "codemirror_mode": {
    "name": "ipython",
    "version": 3
   },
   "file_extension": ".py",
   "mimetype": "text/x-python",
   "name": "python",
   "nbconvert_exporter": "python",
   "pygments_lexer": "ipython3",
   "version": "3.9.12"
  },
  "toc": {
   "base_numbering": 1,
   "nav_menu": {},
   "number_sections": true,
   "sideBar": true,
   "skip_h1_title": true,
   "title_cell": "Содержание",
   "title_sidebar": "Contents",
   "toc_cell": true,
   "toc_position": {
    "height": "calc(100% - 180px)",
    "left": "10px",
    "top": "150px",
    "width": "232.391px"
   },
   "toc_section_display": true,
   "toc_window_display": true
  }
 },
 "nbformat": 4,
 "nbformat_minor": 4
}
